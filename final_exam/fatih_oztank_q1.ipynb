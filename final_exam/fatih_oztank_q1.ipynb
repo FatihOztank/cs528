{
 "cells": [
  {
   "cell_type": "code",
   "execution_count": 2,
   "metadata": {},
   "outputs": [
    {
     "name": "stderr",
     "output_type": "stream",
     "text": [
      "22/06/08 15:09:55 WARN Utils: Your hostname, arch resolves to a loopback address: 127.0.1.1; using 10.50.61.122 instead (on interface wlp4s0)\n",
      "22/06/08 15:09:55 WARN Utils: Set SPARK_LOCAL_IP if you need to bind to another address\n",
      "Using Spark's default log4j profile: org/apache/spark/log4j-defaults.properties\n",
      "Setting default log level to \"WARN\".\n",
      "To adjust logging level use sc.setLogLevel(newLevel). For SparkR, use setLogLevel(newLevel).\n",
      "22/06/08 15:10:00 WARN NativeCodeLoader: Unable to load native-hadoop library for your platform... using builtin-java classes where applicable\n"
     ]
    }
   ],
   "source": [
    "from pyspark.sql import SparkSession\n",
    "from pyspark.sql.functions import UserDefinedFunction\n",
    "from pyspark.sql.types import FloatType\n",
    "from pyspark import SparkContext\n",
    "spark = SparkSession.builder.getOrCreate()"
   ]
  },
  {
   "cell_type": "code",
   "execution_count": 24,
   "metadata": {},
   "outputs": [
    {
     "ename": "AnalysisException",
     "evalue": "expression 'cars.mpg' is neither present in the group by, nor is it an aggregate function. Add to group by or wrap in first() (or first_value) if you don't care which value you get.;\nAggregate [origin#1263], [mpg#1256, cylinders#1257, displacement#1258, horsepower#1259, weight#1260, acceleration#1261, model_year#1262, origin#1263, name#1264]\n+- SubqueryAlias cars\n   +- View (`cars`, [mpg#1256,cylinders#1257,displacement#1258,horsepower#1259,weight#1260,acceleration#1261,model_year#1262,origin#1263,name#1264])\n      +- Relation [mpg#1256,cylinders#1257,displacement#1258,horsepower#1259,weight#1260,acceleration#1261,model_year#1262,origin#1263,name#1264] csv\n",
     "output_type": "error",
     "traceback": [
      "\u001b[0;31m---------------------------------------------------------------------------\u001b[0m",
      "\u001b[0;31mAnalysisException\u001b[0m                         Traceback (most recent call last)",
      "\u001b[1;32m/home/fatih/Documents/dersler/cs528/final_exam/fatih_oztank_q1.ipynb Cell 2'\u001b[0m in \u001b[0;36m<cell line: 6>\u001b[0;34m()\u001b[0m\n\u001b[1;32m      <a href='vscode-notebook-cell:/home/fatih/Documents/dersler/cs528/final_exam/fatih_oztank_q1.ipynb#ch0000009?line=0'>1</a>\u001b[0m carDF \u001b[39m=\u001b[39m spark\u001b[39m.\u001b[39mread\u001b[39m.\u001b[39moption(\u001b[39m\"\u001b[39m\u001b[39mheader\u001b[39m\u001b[39m\"\u001b[39m, \u001b[39m\"\u001b[39m\u001b[39mtrue\u001b[39m\u001b[39m\"\u001b[39m)\u001b[39m.\u001b[39moption(\u001b[39m\"\u001b[39m\u001b[39mdelimiter\u001b[39m\u001b[39m\"\u001b[39m, \u001b[39m\"\u001b[39m\u001b[39m,\u001b[39m\u001b[39m\"\u001b[39m)\\\n\u001b[1;32m      <a href='vscode-notebook-cell:/home/fatih/Documents/dersler/cs528/final_exam/fatih_oztank_q1.ipynb#ch0000009?line=1'>2</a>\u001b[0m     \u001b[39m.\u001b[39moption(\u001b[39m\"\u001b[39m\u001b[39minferSchema\u001b[39m\u001b[39m\"\u001b[39m, \u001b[39m\"\u001b[39m\u001b[39mtrue\u001b[39m\u001b[39m\"\u001b[39m)\u001b[39m.\u001b[39mcsv(\u001b[39m\"\u001b[39m\u001b[39m../datasets/auto-mpg.data.txt\u001b[39m\u001b[39m\"\u001b[39m)\n\u001b[1;32m      <a href='vscode-notebook-cell:/home/fatih/Documents/dersler/cs528/final_exam/fatih_oztank_q1.ipynb#ch0000009?line=3'>4</a>\u001b[0m carDF\u001b[39m.\u001b[39mcreateOrReplaceTempView(\u001b[39m\"\u001b[39m\u001b[39mcars\u001b[39m\u001b[39m\"\u001b[39m)\n\u001b[0;32m----> <a href='vscode-notebook-cell:/home/fatih/Documents/dersler/cs528/final_exam/fatih_oztank_q1.ipynb#ch0000009?line=5'>6</a>\u001b[0m carsDF \u001b[39m=\u001b[39m spark\u001b[39m.\u001b[39;49msql(\u001b[39m\"\u001b[39;49m\u001b[39mselect * from cars group by(origin)\u001b[39;49m\u001b[39m\"\u001b[39;49m)\n\u001b[1;32m      <a href='vscode-notebook-cell:/home/fatih/Documents/dersler/cs528/final_exam/fatih_oztank_q1.ipynb#ch0000009?line=6'>7</a>\u001b[0m carsDF\u001b[39m.\u001b[39mshow()\n",
      "File \u001b[0;32m~/Documents/dersler/cs528/cs528venv/lib/python3.9/site-packages/pyspark/sql/session.py:723\u001b[0m, in \u001b[0;36mSparkSession.sql\u001b[0;34m(self, sqlQuery)\u001b[0m\n\u001b[1;32m    <a href='file:///home/fatih/Documents/dersler/cs528/cs528venv/lib/python3.9/site-packages/pyspark/sql/session.py?line=706'>707</a>\u001b[0m \u001b[39mdef\u001b[39;00m \u001b[39msql\u001b[39m(\u001b[39mself\u001b[39m, sqlQuery):\n\u001b[1;32m    <a href='file:///home/fatih/Documents/dersler/cs528/cs528venv/lib/python3.9/site-packages/pyspark/sql/session.py?line=707'>708</a>\u001b[0m     \u001b[39m\"\"\"Returns a :class:`DataFrame` representing the result of the given query.\u001b[39;00m\n\u001b[1;32m    <a href='file:///home/fatih/Documents/dersler/cs528/cs528venv/lib/python3.9/site-packages/pyspark/sql/session.py?line=708'>709</a>\u001b[0m \n\u001b[1;32m    <a href='file:///home/fatih/Documents/dersler/cs528/cs528venv/lib/python3.9/site-packages/pyspark/sql/session.py?line=709'>710</a>\u001b[0m \u001b[39m    .. versionadded:: 2.0.0\u001b[39;00m\n\u001b[0;32m   (...)\u001b[0m\n\u001b[1;32m    <a href='file:///home/fatih/Documents/dersler/cs528/cs528venv/lib/python3.9/site-packages/pyspark/sql/session.py?line=720'>721</a>\u001b[0m \u001b[39m    [Row(f1=1, f2='row1'), Row(f1=2, f2='row2'), Row(f1=3, f2='row3')]\u001b[39;00m\n\u001b[1;32m    <a href='file:///home/fatih/Documents/dersler/cs528/cs528venv/lib/python3.9/site-packages/pyspark/sql/session.py?line=721'>722</a>\u001b[0m \u001b[39m    \"\"\"\u001b[39;00m\n\u001b[0;32m--> <a href='file:///home/fatih/Documents/dersler/cs528/cs528venv/lib/python3.9/site-packages/pyspark/sql/session.py?line=722'>723</a>\u001b[0m     \u001b[39mreturn\u001b[39;00m DataFrame(\u001b[39mself\u001b[39;49m\u001b[39m.\u001b[39;49m_jsparkSession\u001b[39m.\u001b[39;49msql(sqlQuery), \u001b[39mself\u001b[39m\u001b[39m.\u001b[39m_wrapped)\n",
      "File \u001b[0;32m~/Documents/dersler/cs528/cs528venv/lib/python3.9/site-packages/py4j/java_gateway.py:1321\u001b[0m, in \u001b[0;36mJavaMember.__call__\u001b[0;34m(self, *args)\u001b[0m\n\u001b[1;32m   <a href='file:///home/fatih/Documents/dersler/cs528/cs528venv/lib/python3.9/site-packages/py4j/java_gateway.py?line=1314'>1315</a>\u001b[0m command \u001b[39m=\u001b[39m proto\u001b[39m.\u001b[39mCALL_COMMAND_NAME \u001b[39m+\u001b[39m\\\n\u001b[1;32m   <a href='file:///home/fatih/Documents/dersler/cs528/cs528venv/lib/python3.9/site-packages/py4j/java_gateway.py?line=1315'>1316</a>\u001b[0m     \u001b[39mself\u001b[39m\u001b[39m.\u001b[39mcommand_header \u001b[39m+\u001b[39m\\\n\u001b[1;32m   <a href='file:///home/fatih/Documents/dersler/cs528/cs528venv/lib/python3.9/site-packages/py4j/java_gateway.py?line=1316'>1317</a>\u001b[0m     args_command \u001b[39m+\u001b[39m\\\n\u001b[1;32m   <a href='file:///home/fatih/Documents/dersler/cs528/cs528venv/lib/python3.9/site-packages/py4j/java_gateway.py?line=1317'>1318</a>\u001b[0m     proto\u001b[39m.\u001b[39mEND_COMMAND_PART\n\u001b[1;32m   <a href='file:///home/fatih/Documents/dersler/cs528/cs528venv/lib/python3.9/site-packages/py4j/java_gateway.py?line=1319'>1320</a>\u001b[0m answer \u001b[39m=\u001b[39m \u001b[39mself\u001b[39m\u001b[39m.\u001b[39mgateway_client\u001b[39m.\u001b[39msend_command(command)\n\u001b[0;32m-> <a href='file:///home/fatih/Documents/dersler/cs528/cs528venv/lib/python3.9/site-packages/py4j/java_gateway.py?line=1320'>1321</a>\u001b[0m return_value \u001b[39m=\u001b[39m get_return_value(\n\u001b[1;32m   <a href='file:///home/fatih/Documents/dersler/cs528/cs528venv/lib/python3.9/site-packages/py4j/java_gateway.py?line=1321'>1322</a>\u001b[0m     answer, \u001b[39mself\u001b[39;49m\u001b[39m.\u001b[39;49mgateway_client, \u001b[39mself\u001b[39;49m\u001b[39m.\u001b[39;49mtarget_id, \u001b[39mself\u001b[39;49m\u001b[39m.\u001b[39;49mname)\n\u001b[1;32m   <a href='file:///home/fatih/Documents/dersler/cs528/cs528venv/lib/python3.9/site-packages/py4j/java_gateway.py?line=1323'>1324</a>\u001b[0m \u001b[39mfor\u001b[39;00m temp_arg \u001b[39min\u001b[39;00m temp_args:\n\u001b[1;32m   <a href='file:///home/fatih/Documents/dersler/cs528/cs528venv/lib/python3.9/site-packages/py4j/java_gateway.py?line=1324'>1325</a>\u001b[0m     temp_arg\u001b[39m.\u001b[39m_detach()\n",
      "File \u001b[0;32m~/Documents/dersler/cs528/cs528venv/lib/python3.9/site-packages/pyspark/sql/utils.py:117\u001b[0m, in \u001b[0;36mcapture_sql_exception.<locals>.deco\u001b[0;34m(*a, **kw)\u001b[0m\n\u001b[1;32m    <a href='file:///home/fatih/Documents/dersler/cs528/cs528venv/lib/python3.9/site-packages/pyspark/sql/utils.py?line=112'>113</a>\u001b[0m converted \u001b[39m=\u001b[39m convert_exception(e\u001b[39m.\u001b[39mjava_exception)\n\u001b[1;32m    <a href='file:///home/fatih/Documents/dersler/cs528/cs528venv/lib/python3.9/site-packages/pyspark/sql/utils.py?line=113'>114</a>\u001b[0m \u001b[39mif\u001b[39;00m \u001b[39mnot\u001b[39;00m \u001b[39misinstance\u001b[39m(converted, UnknownException):\n\u001b[1;32m    <a href='file:///home/fatih/Documents/dersler/cs528/cs528venv/lib/python3.9/site-packages/pyspark/sql/utils.py?line=114'>115</a>\u001b[0m     \u001b[39m# Hide where the exception came from that shows a non-Pythonic\u001b[39;00m\n\u001b[1;32m    <a href='file:///home/fatih/Documents/dersler/cs528/cs528venv/lib/python3.9/site-packages/pyspark/sql/utils.py?line=115'>116</a>\u001b[0m     \u001b[39m# JVM exception message.\u001b[39;00m\n\u001b[0;32m--> <a href='file:///home/fatih/Documents/dersler/cs528/cs528venv/lib/python3.9/site-packages/pyspark/sql/utils.py?line=116'>117</a>\u001b[0m     \u001b[39mraise\u001b[39;00m converted \u001b[39mfrom\u001b[39;00m \u001b[39mNone\u001b[39m\n\u001b[1;32m    <a href='file:///home/fatih/Documents/dersler/cs528/cs528venv/lib/python3.9/site-packages/pyspark/sql/utils.py?line=117'>118</a>\u001b[0m \u001b[39melse\u001b[39;00m:\n\u001b[1;32m    <a href='file:///home/fatih/Documents/dersler/cs528/cs528venv/lib/python3.9/site-packages/pyspark/sql/utils.py?line=118'>119</a>\u001b[0m     \u001b[39mraise\u001b[39;00m\n",
      "\u001b[0;31mAnalysisException\u001b[0m: expression 'cars.mpg' is neither present in the group by, nor is it an aggregate function. Add to group by or wrap in first() (or first_value) if you don't care which value you get.;\nAggregate [origin#1263], [mpg#1256, cylinders#1257, displacement#1258, horsepower#1259, weight#1260, acceleration#1261, model_year#1262, origin#1263, name#1264]\n+- SubqueryAlias cars\n   +- View (`cars`, [mpg#1256,cylinders#1257,displacement#1258,horsepower#1259,weight#1260,acceleration#1261,model_year#1262,origin#1263,name#1264])\n      +- Relation [mpg#1256,cylinders#1257,displacement#1258,horsepower#1259,weight#1260,acceleration#1261,model_year#1262,origin#1263,name#1264] csv\n"
     ]
    }
   ],
   "source": [
    "carDF = spark.read.option(\"header\", \"true\").option(\"delimiter\", \",\")\\\n",
    "    .option(\"inferSchema\", \"true\").csv(\"../datasets/auto-mpg.data.txt\")\n",
    "\n",
    "carDF.createOrReplaceTempView(\"cars\")\n",
    "\n",
    "carsDF = spark.sql(\"select * from cars group by(origin)\")\n",
    "carsDF.show()"
   ]
  }
 ],
 "metadata": {
  "interpreter": {
   "hash": "6389c4f3611612d81a5ee170de9679905eb10b2a5a31904a2f8d152d44906565"
  },
  "kernelspec": {
   "display_name": "Python 3.9.12 ('cs528venv': venv)",
   "language": "python",
   "name": "python3"
  },
  "language_info": {
   "codemirror_mode": {
    "name": "ipython",
    "version": 3
   },
   "file_extension": ".py",
   "mimetype": "text/x-python",
   "name": "python",
   "nbconvert_exporter": "python",
   "pygments_lexer": "ipython3",
   "version": "3.9.13"
  },
  "orig_nbformat": 4
 },
 "nbformat": 4,
 "nbformat_minor": 2
}
