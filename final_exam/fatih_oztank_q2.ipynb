{
 "cells": [
  {
   "cell_type": "code",
   "execution_count": 5,
   "metadata": {},
   "outputs": [],
   "source": [
    "from pyspark.sql import SparkSession\n",
    "from pyspark.sql.functions import UserDefinedFunction\n",
    "from pyspark.sql.types import StringType\n",
    "from pyspark import SparkContext\n",
    "spark = SparkSession.builder.getOrCreate()"
   ]
  },
  {
   "cell_type": "code",
   "execution_count": 2,
   "metadata": {},
   "outputs": [],
   "source": [
    "carDF = spark.read.option(\"header\", \"true\").option(\"delimiter\", \",\")\\\n",
    "    .option(\"inferSchema\", \"true\").csv(\"../datasets/auto-mpg.data.txt\")\n",
    "\n"
   ]
  },
  {
   "cell_type": "code",
   "execution_count": 6,
   "metadata": {},
   "outputs": [
    {
     "name": "stderr",
     "output_type": "stream",
     "text": [
      "[Stage 3:>                                                          (0 + 1) / 1]\r"
     ]
    },
    {
     "name": "stdout",
     "output_type": "stream",
     "text": [
      "+----+---------+------------+----------+------+------------+----------+------+--------------------+-----------+\n",
      "| mpg|cylinders|displacement|horsepower|weight|acceleration|model_year|origin|                name|   Car-Type|\n",
      "+----+---------+------------+----------+------+------------+----------+------+--------------------+-----------+\n",
      "|18.0|        8|       307.0|       130|  3504|        12.0|        70|     1|chevrolet chevell...|   Slow Car|\n",
      "|15.0|        8|       350.0|       165|  3693|        11.5|        70|     1|   buick skylark 320|Average Car|\n",
      "|18.0|        8|       318.0|       150|  3436|        11.0|        70|     1|  plymouth satellite|Average Car|\n",
      "|16.0|        8|       304.0|       150|  3433|        12.0|        70|     1|       amc rebel sst|   Slow Car|\n",
      "|17.0|        8|       302.0|       140|  3449|        10.5|        70|     1|         ford torino|Average Car|\n",
      "|15.0|        8|       429.0|       198|  4341|        10.0|        70|     1|    ford galaxie 500|Average Car|\n",
      "|14.0|        8|       454.0|       220|  4354|         9.0|        70|     1|    chevrolet impala|Average Car|\n",
      "|14.0|        8|       440.0|       215|  4312|         8.5|        70|     1|   plymouth fury iii|Average Car|\n",
      "|14.0|        8|       455.0|       225|  4425|        10.0|        70|     1|    pontiac catalina|Average Car|\n",
      "|15.0|        8|       390.0|       190|  3850|         8.5|        70|     1|  amc ambassador dpl|Average Car|\n",
      "|15.0|        8|       383.0|       170|  3563|        10.0|        70|     1| dodge challenger se|Average Car|\n",
      "|14.0|        8|       340.0|       160|  3609|         8.0|        70|     1|  plymouth 'cuda 340|Average Car|\n",
      "|15.0|        8|       400.0|       150|  3761|         9.5|        70|     1|chevrolet monte c...|Average Car|\n",
      "|14.0|        8|       455.0|       225|  3086|        10.0|        70|     1|buick estate wago...|Average Car|\n",
      "|24.0|        4|       113.0|        95|  2372|        15.0|        70|     3|toyota corona mar...|   Slow Car|\n",
      "|22.0|        6|       198.0|        95|  2833|        15.5|        70|     1|     plymouth duster|   Slow Car|\n",
      "|18.0|        6|       199.0|        97|  2774|        15.5|        70|     1|          amc hornet|   Slow Car|\n",
      "|21.0|        6|       200.0|        85|  2587|        16.0|        70|     1|       ford maverick|   Slow Car|\n",
      "|27.0|        4|        97.0|        88|  2130|        14.5|        70|     3|        datsun pl510|   Slow Car|\n",
      "|26.0|        4|        97.0|        46|  1835|        20.5|        70|     2|volkswagen 1131 d...|   Slow Car|\n",
      "+----+---------+------------+----------+------+------------+----------+------+--------------------+-----------+\n",
      "only showing top 20 rows\n",
      "\n"
     ]
    },
    {
     "name": "stderr",
     "output_type": "stream",
     "text": [
      "                                                                                \r"
     ]
    }
   ],
   "source": [
    "def carTypeGen(acc):\n",
    "    if (acc > 0 and acc < 7):\n",
    "        return \"Fast Car\"\n",
    "    elif (acc >= 7 and acc < 12):\n",
    "        return \"Average Car\"\n",
    "    elif (acc >= 12):\n",
    "        return \"Slow Car\"\n",
    "\n",
    "\n",
    "carTypeUDF = UserDefinedFunction(carTypeGen,StringType())\n",
    "\n",
    "carDF = carDF.withColumn(\"Car-Type\", carTypeUDF(carDF[\"acceleration\"]))\n",
    "carDF.show()"
   ]
  }
 ],
 "metadata": {
  "interpreter": {
   "hash": "6389c4f3611612d81a5ee170de9679905eb10b2a5a31904a2f8d152d44906565"
  },
  "kernelspec": {
   "display_name": "Python 3.9.12 ('cs528venv': venv)",
   "language": "python",
   "name": "python3"
  },
  "language_info": {
   "codemirror_mode": {
    "name": "ipython",
    "version": 3
   },
   "file_extension": ".py",
   "mimetype": "text/x-python",
   "name": "python",
   "nbconvert_exporter": "python",
   "pygments_lexer": "ipython3",
   "version": "3.9.13"
  },
  "orig_nbformat": 4
 },
 "nbformat": 4,
 "nbformat_minor": 2
}
