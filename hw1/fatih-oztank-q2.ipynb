{
 "cells": [
  {
   "cell_type": "code",
   "execution_count": null,
   "metadata": {},
   "outputs": [],
   "source": [
    "from pyspark import SparkContext\n",
    "import numpy as np\n",
    "import geopy.distance\n",
    "sc = SparkContext.getOrCreate()\n"
   ]
  },
  {
   "cell_type": "code",
   "execution_count": 2,
   "metadata": {},
   "outputs": [],
   "source": [
    "def splitAndTake(line):\n",
    "    arr = line.split('\\t')\n",
    "    country = str(arr[1])\n",
    "    capital = str(arr[2])\n",
    "    lat = float(arr[3].strip().replace(\",\",\".\"))\n",
    "    lon = float(arr[4].strip().replace(\",\",\".\"))\n",
    "    return(country, capital, lat, lon)"
   ]
  },
  {
   "cell_type": "code",
   "execution_count": 3,
   "metadata": {},
   "outputs": [
    {
     "name": "stderr",
     "output_type": "stream",
     "text": [
      "                                                                                \r"
     ]
    }
   ],
   "source": [
    "capital_rdd = sc.textFile(\"datasets/Capitals.txt\")\n",
    "capital_rdd = capital_rdd.map(lambda line: splitAndTake(line))\n",
    "capital_rdd = capital_rdd.filter(lambda x: x[2] >= -90)\n",
    "capital_rdd = capital_rdd.filter(lambda x: x[2] <= 90)\n",
    "capital_rdd = capital_rdd.sortBy(lambda x: x[2],ascending=True) # dropping some capitals due to latitude problems\n",
    "#capital_rdd.take(10)"
   ]
  },
  {
   "cell_type": "code",
   "execution_count": 4,
   "metadata": {},
   "outputs": [],
   "source": [
    "def findDistanceBetweenCapitals(line):\n",
    "    f_coord = (line[0][2], line[0][3])\n",
    "    s_coord = (line[1][2], line[1][3])\n",
    "    f_capital = line[0][1]\n",
    "    s_capital = line[1][1]\n",
    "    dist = geopy.distance.geodesic(f_coord,s_coord).km\n",
    "    return (f_capital, s_capital, dist)\n",
    "\n"
   ]
  },
  {
   "cell_type": "code",
   "execution_count": 5,
   "metadata": {},
   "outputs": [
    {
     "name": "stderr",
     "output_type": "stream",
     "text": [
      "                                                                                \r"
     ]
    },
    {
     "data": {
      "text/plain": [
       "[('Asunción ', 'Taipei ', 19937.978842802288),\n",
       " ('Taipei ', 'Asunción ', 19937.978842802288),\n",
       " ('Adamstown ', 'Doha ', 19865.698941975137),\n",
       " ('Doha ', 'Adamstown ', 19865.698941975137),\n",
       " ('Adamstown ', 'Manama ', 19864.030721583185),\n",
       " ('Manama ', 'Adamstown ', 19864.030721583185),\n",
       " ('Wellington ', 'Madrid ', 19854.59088545042),\n",
       " ('Madrid ', 'Wellington ', 19854.59088545042),\n",
       " ('Mata-Utu ', 'Niamey ', 19846.825754486857),\n",
       " ('Niamey ', 'Mata-Utu ', 19846.825754486857)]"
      ]
     },
     "execution_count": 5,
     "metadata": {},
     "output_type": "execute_result"
    }
   ],
   "source": [
    "country_pairs = capital_rdd.cartesian(capital_rdd)\n",
    "country_pairs = country_pairs.filter(lambda x: x[0] != x[1])\n",
    "capitals = country_pairs.map(lambda line: findDistanceBetweenCapitals(line))\n",
    "capitals = capitals.sortBy(lambda line: line[2], ascending=False)\n",
    "capitals.take(10)"
   ]
  }
 ],
 "metadata": {
  "interpreter": {
   "hash": "6389c4f3611612d81a5ee170de9679905eb10b2a5a31904a2f8d152d44906565"
  },
  "kernelspec": {
   "display_name": "Python 3.9.9 ('cs528venv': venv)",
   "language": "python",
   "name": "python3"
  },
  "language_info": {
   "codemirror_mode": {
    "name": "ipython",
    "version": 3
   },
   "file_extension": ".py",
   "mimetype": "text/x-python",
   "name": "python",
   "nbconvert_exporter": "python",
   "pygments_lexer": "ipython3",
   "version": "3.9.9"
  },
  "orig_nbformat": 4
 },
 "nbformat": 4,
 "nbformat_minor": 2
}
