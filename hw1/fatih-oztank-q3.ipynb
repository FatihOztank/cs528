{
 "cells": [
  {
   "cell_type": "code",
   "execution_count": 1,
   "metadata": {},
   "outputs": [
    {
     "name": "stderr",
     "output_type": "stream",
     "text": [
      "22/04/06 16:10:38 WARN Utils: Your hostname, arch resolves to a loopback address: 127.0.1.1; using 10.50.247.202 instead (on interface wlp4s0)\n",
      "22/04/06 16:10:38 WARN Utils: Set SPARK_LOCAL_IP if you need to bind to another address\n",
      "Using Spark's default log4j profile: org/apache/spark/log4j-defaults.properties\n",
      "Setting default log level to \"WARN\".\n",
      "To adjust logging level use sc.setLogLevel(newLevel). For SparkR, use setLogLevel(newLevel).\n",
      "22/04/06 16:10:39 WARN NativeCodeLoader: Unable to load native-hadoop library for your platform... using builtin-java classes where applicable\n",
      "22/04/06 16:10:40 WARN Utils: Service 'SparkUI' could not bind on port 4040. Attempting port 4041.\n",
      "22/04/06 16:10:40 WARN Utils: Service 'SparkUI' could not bind on port 4041. Attempting port 4042.\n",
      "22/04/06 16:10:40 WARN Utils: Service 'SparkUI' could not bind on port 4042. Attempting port 4043.\n"
     ]
    }
   ],
   "source": [
    "from pyspark import SparkContext\n",
    "import numpy as np\n",
    "import geopy.distance\n",
    "import datetime\n",
    "sc = SparkContext.getOrCreate()\n"
   ]
  },
  {
   "cell_type": "code",
   "execution_count": 2,
   "metadata": {},
   "outputs": [],
   "source": [
    "def splitAndTake(line):\n",
    "    arr = line.split('\\t')\n",
    "    lat = float(arr[4])\n",
    "    lng = float(arr[5])\n",
    "    mag = float(arr[7])\n",
    "    date = str(arr[2])\n",
    "    time = str(arr[3])\n",
    "    loc = str(arr[-1])\n",
    "    return (lat,lng,mag,date,time,loc)"
   ]
  },
  {
   "cell_type": "code",
   "execution_count": 3,
   "metadata": {},
   "outputs": [
    {
     "name": "stderr",
     "output_type": "stream",
     "text": [
      "                                                                                \r"
     ]
    }
   ],
   "source": [
    "dataRDD = sc.textFile('datasets/EarthquakeDataset-Latest.txt')\n",
    "dataRDD = dataRDD.filter(lambda line : 'Origin Time' not in line)\n",
    "dataRDD = dataRDD.map(lambda line: splitAndTake(line))\n",
    "dataRDD = dataRDD.sortBy(lambda x : x[2],ascending=False)\n",
    "\n",
    "top10quakes = (dataRDD.take(10))"
   ]
  },
  {
   "cell_type": "code",
   "execution_count": 11,
   "metadata": {},
   "outputs": [],
   "source": [
    "def getAftershocks(quake, line):\n",
    "    quake_time_str = quake[3] + \" \" + quake[4]\n",
    "    line_time_str = line[3] + \" \" + line[4]\n",
    "    try:\n",
    "        quake_time = datetime.datetime.strptime(quake_time_str, \"%Y.%m.%d %H:%M:%S.%f\") \n",
    "    except:\n",
    "        return false\n",
    "    try:\n",
    "        line_time = datetime.datetime.strptime(line_time_str, \"%Y.%m.%d %H:%M:%S.%f\") \n",
    "    except:\n",
    "        return false\n",
    "    hour = (line_time - quake_time).total_seconds()/3600\n",
    "    isAftershock = ((0 < hour) and (hour < 24))\n",
    "    quake_coord = (quake[0], quake[1])\n",
    "    line_coord = (line[0], line[1])\n",
    "    distance = geopy.distance.geodesic(quake_coord, line_coord).km\n",
    "    isNeighbor = distance <= 20\n",
    "    #print(distance, isNeighbor, isAftershock, (quake_time - line_time).total_seconds()/3600)\n",
    "    return (isAftershock and isNeighbor)\n",
    "    "
   ]
  },
  {
   "cell_type": "code",
   "execution_count": 19,
   "metadata": {},
   "outputs": [],
   "source": [
    "def getForeshocks(quake, line):\n",
    "    quake_time_str = quake[3] + \" \" + quake[4]\n",
    "    line_time_str = line[3] + \" \" + line[4]\n",
    "    try:\n",
    "        quake_time = datetime.datetime.strptime(quake_time_str, \"%Y.%m.%d %H:%M:%S.%f\") \n",
    "    except:\n",
    "        return false\n",
    "    try:\n",
    "        line_time = datetime.datetime.strptime(line_time_str, \"%Y.%m.%d %H:%M:%S.%f\") \n",
    "    except:\n",
    "        return false\n",
    "    hour = (line_time - quake_time).total_seconds()/3600\n",
    "    isForeshock = ((0 > hour) & (hour > -24))\n",
    "    quake_coord = (quake[0], quake[1])\n",
    "    line_coord = (line[0], line[1])\n",
    "    distance = geopy.distance.geodesic(quake_coord, line_coord).km\n",
    "    isNeighbor = distance <= 20\n",
    "    #print(distance, isNeighbor, isForeshock, hour)\n",
    "    return (isForeshock and isNeighbor)"
   ]
  },
  {
   "cell_type": "code",
   "execution_count": 20,
   "metadata": {},
   "outputs": [
    {
     "name": "stdout",
     "output_type": "stream",
     "text": [
      "quake:  1   (39.8, 39.51, 7.9, '1939.12.26', '23:57:20.90', 'KURUTILEK- (ERZINCAN) [North East  3.0 km]')\n"
     ]
    },
    {
     "name": "stderr",
     "output_type": "stream",
     "text": [
      "                                                                                \r"
     ]
    },
    {
     "name": "stdout",
     "output_type": "stream",
     "text": [
      "aftershocks:  []\n"
     ]
    },
    {
     "name": "stderr",
     "output_type": "stream",
     "text": [
      "                                                                                \r"
     ]
    },
    {
     "name": "stdout",
     "output_type": "stream",
     "text": [
      "foreshocks:  []\n",
      "-------------------------------------\n",
      "quake:  2   (36.54, 27.33, 7.7, '1926.06.26', '19:46:38.80', 'ONIKI ADALAR (AKDENIZ)')\n"
     ]
    },
    {
     "name": "stderr",
     "output_type": "stream",
     "text": [
      "                                                                                \r"
     ]
    },
    {
     "name": "stdout",
     "output_type": "stream",
     "text": [
      "aftershocks:  [(36.5, 27.5, 5.5, '1926.06.26', '21:19:24.00', 'AKDENIZ')]\n"
     ]
    },
    {
     "name": "stderr",
     "output_type": "stream",
     "text": [
      "                                                                                \r"
     ]
    },
    {
     "name": "stdout",
     "output_type": "stream",
     "text": [
      "foreshocks:  []\n",
      "-------------------------------------\n",
      "quake:  3   (37.98, 44.48, 7.6, '1930.05.06', '22:34:31.70', 'TÜRKIYE-IRAN SINIR BÖLGESI')\n"
     ]
    },
    {
     "name": "stderr",
     "output_type": "stream",
     "text": [
      "                                                                                \r"
     ]
    },
    {
     "name": "stdout",
     "output_type": "stream",
     "text": [
      "aftershocks:  [(38.0, 44.5, 5.2, '1930.05.07', '13:48:00.00', 'KIZILCA-BASKALE (VAN) [South East  20.7 km]'), (38.0, 44.5, 4.7, '1930.05.07', '09:29:00.00', 'KIZILCA-BASKALE (VAN) [South East  20.7 km]'), (37.98, 44.48, 4.3, '1930.05.07', '04:58:04.00', 'TÜRKIYE-IRAN SINIR BÖLGESI')]\n"
     ]
    },
    {
     "name": "stderr",
     "output_type": "stream",
     "text": [
      "                                                                                \r"
     ]
    },
    {
     "name": "stdout",
     "output_type": "stream",
     "text": [
      "foreshocks:  []\n",
      "-------------------------------------\n",
      "quake:  4   (39.05, 44.04, 7.5, '1976.11.24', '12:22:16.00', 'YENIYAKA-CALDIRAN (VAN) [South East  1.9 km]')\n"
     ]
    },
    {
     "name": "stderr",
     "output_type": "stream",
     "text": [
      "                                                                                \r"
     ]
    },
    {
     "name": "stdout",
     "output_type": "stream",
     "text": [
      "aftershocks:  [(39.1, 44.2, 5.5, '1976.11.24', '12:36:48.70', 'ARALIK-CALDIRAN (VAN) [North East  5.7 km]'), (39.17, 43.95, 5.1, '1976.11.24', '12:30:40.90', 'ASAGIMUTLU-CALDIRAN (VAN) [South West  1.3 km]'), (39.08, 44.13, 5.0, '1976.11.24', '20:46:07.20', 'ARALIK-CALDIRAN (VAN) [South West  1.2 km]'), (39.0, 44.19, 5.0, '1976.11.24', '15:11:07.60', 'BAYDOGAN-CALDIRAN (VAN) [South East  4.9 km]')]\n"
     ]
    },
    {
     "name": "stderr",
     "output_type": "stream",
     "text": [
      "                                                                                \r"
     ]
    },
    {
     "name": "stdout",
     "output_type": "stream",
     "text": [
      "foreshocks:  []\n",
      "-------------------------------------\n",
      "quake:  5   (40.76, 29.97, 7.4, '1999.08.17', '00:01:37.60', 'BASISKELE (KOCAELI) [North East  2.0 km]')\n"
     ]
    },
    {
     "name": "stderr",
     "output_type": "stream",
     "text": [
      "                                                                                \r"
     ]
    },
    {
     "name": "stdout",
     "output_type": "stream",
     "text": [
      "aftershocks:  [(40.75, 29.75, 4.1, '1999.08.17', '15:17:52.00', 'KORFEZ (KOCAELI) [South East  3.1 km]')]\n"
     ]
    },
    {
     "name": "stderr",
     "output_type": "stream",
     "text": [
      "                                                                                \r"
     ]
    },
    {
     "name": "stdout",
     "output_type": "stream",
     "text": [
      "foreshocks:  []\n",
      "-------------------------------------\n",
      "quake:  6   (40.6, 27.2, 7.3, '1912.08.09', '01:29:00.00', 'ERIKLICE-SARKOY (TEKIRDAG) [South East  4.3 km]')\n"
     ]
    },
    {
     "name": "stderr",
     "output_type": "stream",
     "text": [
      "                                                                                \r"
     ]
    },
    {
     "name": "stdout",
     "output_type": "stream",
     "text": [
      "aftershocks:  []\n"
     ]
    },
    {
     "name": "stderr",
     "output_type": "stream",
     "text": [
      "                                                                                \r"
     ]
    },
    {
     "name": "stdout",
     "output_type": "stream",
     "text": [
      "foreshocks:  []\n",
      "-------------------------------------\n",
      "quake:  7   (38.7212, 43.411, 7.2, '2011.10.23', '10:41:21.01', 'YEMLICE- (VAN) [North West  1.5 km]')\n"
     ]
    },
    {
     "name": "stderr",
     "output_type": "stream",
     "text": [
      "                                                                                \r"
     ]
    },
    {
     "name": "stdout",
     "output_type": "stream",
     "text": [
      "aftershocks:  [(38.8022, 43.254, 5.7, '2011.10.23', '11:32:40.98', 'YESILSU- (VAN) [North West  4.0 km]'), (38.8137, 43.4462, 5.6, '2011.10.23', '10:56:49.00', 'GEDIKBULAK- (VAN) [South East  2.4 km]'), (38.7023, 43.2948, 5.1, '2011.10.23', '18:10:45.40', 'GOLLU- (VAN) [South West  2.6 km]'), (38.7513, 43.5952, 5.1, '2011.10.23', '10:48:17.42', 'ILIKAYNAK- (VAN) [West 1.7 km]'), (38.6693, 43.5113, 4.9, '2011.10.24', '08:49:21.04', 'KOZLUCA- (VAN) [North West  1.8 km]'), (38.7852, 43.2703, 4.9, '2011.10.23', '19:06:06.38', 'YESILSU- (VAN) [North West  2.0 km]'), (38.776, 43.3507, 4.9, '2011.10.23', '18:53:48.55', 'SAHGELDI- (VAN) [North East  0.7 km]'), (38.8157, 43.3382, 4.9, '2011.10.23', '10:52:03.87', 'ESENPINAR- (VAN) [North East  1.8 km]'), (38.5747, 43.2832, 4.8, '2011.10.24', '08:28:28.93', 'BARDAKCI- (VAN) [North East  1.8 km]'), (38.6512, 43.2258, 4.7, '2011.10.24', '04:43:01.41', 'DIBEKDUZU- (VAN) [North West  1.7 km]'), (38.7765, 43.2762, 4.6, '2011.10.24', '05:54:58.51', 'YESILSU- (VAN) [South West  1.5 km]'), (38.752, 43.553, 4.6, '2011.10.23', '16:05:08.56', 'ASAGIGOLALAN- (VAN) [North West  1.5 km]'), (38.7462, 43.3162, 4.6, '2011.10.23', '15:57:59.32', 'GUVENCLI- (VAN) [North 0.8 km]'), (38.7217, 43.4695, 4.5, '2011.10.24', '10:30:15.60', 'YEMLICE- (VAN) [South East  2.4 km]'), (38.846, 43.4222, 4.5, '2011.10.24', '08:12:12.33', 'GEDIKBULAK- (VAN) [North West  1.9 km]'), (38.735, 43.23, 4.5, '2011.10.23', '19:43:24.76', 'OZYURT- (VAN) [South East  1.9 km]'), (38.7588, 43.3375, 4.5, '2011.10.23', '12:56:49.02', 'SAHGELDI- (VAN) [South West  1.5 km]'), (38.665, 43.3935, 4.4, '2011.10.23', '18:27:01.59', 'ASIT- (VAN) [North 3.1 km]'), (38.6145, 43.5837, 4.3, '2011.10.24', '07:02:23.66', 'BAKLATEPE- (VAN) [North 2.6 km]'), (38.8508, 43.3263, 4.3, '2011.10.23', '13:17:05.77', 'HALKALI- (VAN) [North East  2.5 km]'), (38.7287, 43.192, 4.3, '2011.10.23', '12:42:09.69', 'OZYURT- (VAN) [South West  2.5 km]'), (38.739, 43.298, 4.3, '2011.10.23', '11:44:25.30', 'GUVENCLI- (VAN) [West 1.6 km]'), (38.7342, 43.509, 4.2, '2011.10.23', '16:38:47.90', 'AKCAOREN- (VAN) [North East  1.2 km]'), (38.7762, 43.197, 4.2, '2011.10.23', '12:03:11.59', 'OZYURT- (VAN) [North West  3.7 km]'), (38.837, 43.3102, 4.2, '2011.10.23', '11:27:15.84', 'HALKALI- (VAN) [North West  1.1 km]'), (38.7468, 43.2487, 4.1, '2011.10.23', '13:46:10.71', 'DAGONU- (VAN) [South 1.5 km]'), (38.8565, 43.556, 4.0, '2011.10.24', '04:16:41.33', 'BAGDASAN- (VAN) [North East  3.2 km]'), (38.7855, 43.3692, 4.0, '2011.10.24', '00:50:47.06', 'SAHGELDI- (VAN) [North East  2.6 km]'), (38.5868, 43.5185, 4.0, '2011.10.23', '23:34:43.74', 'ASAGICITLI- (VAN) [North East  2.9 km]'), (38.7695, 43.5735, 4.0, '2011.10.23', '13:47:48.33', 'YUKARIGOLALAN- (VAN) [North West  0.5 km]'), (38.8212, 43.2598, 3.9, '2011.10.24', '05:34:03.72', 'HALKALI- (VAN) [South West  5.1 km]'), (38.6898, 43.2577, 3.9, '2011.10.24', '05:32:00.34', 'ATMACA- (VAN) [South West  1.0 km]'), (38.7327, 43.2712, 3.9, '2011.10.24', '04:18:46.44', 'DAGONU- (VAN) [South East  3.7 km]'), (38.8623, 43.374, 3.9, '2011.10.24', '02:44:42.53', 'KUMLUCA- (VAN) [North West  3.1 km]'), (38.7545, 43.3417, 3.9, '2011.10.24', '01:39:16.10', 'SAHGELDI- (VAN) [South West  1.9 km]'), (38.7602, 43.4647, 3.9, '2011.10.23', '19:54:24.12', 'YEMLICE- (VAN) [North East  2.7 km]'), (38.8772, 43.4, 3.9, '2011.10.23', '12:23:30.25', 'KUMLUCA- (VAN) [North 3.9 km]'), (38.7707, 43.6007, 3.9, '2011.10.23', '12:17:33.91', 'YUKARIGOLALAN- (VAN) [North East  2.2 km]'), (38.73, 43.2, 3.9, '2011.10.23', '11:54:56.10', 'OZYURT- (VAN) [South West  2.0 km]'), (38.7508, 43.2342, 3.9, '2011.10.23', '11:07:33.72', 'DAGONU- (VAN) [South West  1.5 km]'), (38.7382, 43.4988, 3.8, '2011.10.24', '10:10:52.65', 'AKCAOREN- (VAN) [North East  0.8 km]'), (38.7547, 43.2227, 3.8, '2011.10.23', '14:52:50.81', 'OZYURT- (VAN) [North East  1.4 km]'), (38.7462, 43.281, 3.8, '2011.10.23', '11:29:29.29', 'GUVENCLI- (VAN) [North West  3.2 km]'), (38.7362, 43.3433, 3.7, '2011.10.24', '10:18:45.11', 'GUVENCLI- (VAN) [East 2.3 km]'), (38.7797, 43.6057, 3.7, '2011.10.24', '07:32:49.41', 'YUKARIGOLALAN- (VAN) [North East  3.0 km]'), (38.7792, 43.481, 3.7, '2011.10.24', '01:08:09.54', 'DEREBEY- (VAN) [South West  1.9 km]'), (38.7235, 43.254, 3.7, '2011.10.23', '17:32:57.18', 'ATMACA- (VAN) [North West  2.8 km]'), (38.8235, 43.4138, 3.6, '2011.10.24', '08:56:08.41', 'KUMLUCA- (VAN) [South East  2.4 km]'), (38.7415, 43.2123, 3.6, '2011.10.23', '23:37:52.49', 'OZYURT- (VAN) [South 0.4 km]'), (38.8012, 43.3625, 3.6, '2011.10.23', '21:43:28.29', 'YAYLIYAKA- (VAN) [South West  1.9 km]'), (38.6798, 43.2097, 3.6, '2011.10.23', '21:00:06.63', 'MOLLAKASIM- (VAN) [North East  1.8 km]'), (38.6813, 43.4585, 3.6, '2011.10.23', '20:07:21.99', 'DILIMLI- (VAN) [North West  0.9 km]'), (38.8275, 43.2453, 3.6, '2011.10.23', '13:33:49.05', 'HALKALI- (VAN) [West 6.3 km]'), (38.7562, 43.5078, 3.6, '2011.10.23', '13:22:31.95', 'MEYDANCIK- (VAN) [South 1.4 km]'), (38.827, 43.3917, 3.6, '2011.10.23', '12:53:42.03', 'KUMLUCA- (VAN) [South West  1.8 km]'), (38.7953, 43.505, 3.5, '2011.10.24', '08:42:10.48', 'DEREBEY- (VAN) [North East  1.0 km]'), (38.7317, 43.5062, 3.5, '2011.10.24', '00:37:51.69', 'AKCAOREN- (VAN) [East 1.0 km]'), (38.7315, 43.376, 3.5, '2011.10.23', '18:30:34.08', 'TABANLI- (VAN) [South East  2.3 km]'), (38.6873, 43.2647, 3.5, '2011.10.23', '17:27:06.39', 'ATMACA- (VAN) [South East  1.3 km]'), (38.716, 43.4278, 3.5, '2011.10.23', '17:14:49.03', 'OCAKLI- (VAN) [South East  2.0 km]'), (38.8907, 43.3432, 3.5, '2011.10.23', '15:06:18.32', 'HALKALI- (VAN) [North East  7.2 km]'), (38.81, 43.3, 3.5, '2011.10.23', '11:47:24.20', 'HALKALI- (VAN) [South West  2.7 km]')]\n"
     ]
    },
    {
     "name": "stderr",
     "output_type": "stream",
     "text": [
      "                                                                                \r"
     ]
    },
    {
     "name": "stdout",
     "output_type": "stream",
     "text": [
      "foreshocks:  []\n",
      "-------------------------------------\n",
      "quake:  8   (40.74, 31.21, 7.2, '1999.11.12', '16:57:20.80', 'UGUR- (DUZCE) [North East  0.3 km]')\n"
     ]
    },
    {
     "name": "stderr",
     "output_type": "stream",
     "text": [
      "                                                                                \r"
     ]
    },
    {
     "name": "stdout",
     "output_type": "stream",
     "text": [
      "aftershocks:  [(40.74, 31.05, 5.4, '1999.11.12', '17:18:00.00', 'HAMAMUSTU-GOLYAKA (DUZCE) [South East  1.2 km]'), (40.75, 31.4, 5.2, '1999.11.12', '17:27:00.00', 'DARIYERIBAKACAK-KAYNASLI (DUZCE) [East 1.2 km]'), (40.75, 31.1, 5.2, '1999.11.12', '17:17:00.00', 'AYDINPINAR- (DUZCE) [South West  1.6 km]'), (40.76, 31.16, 5.1, '1999.11.12', '17:23:00.00', 'KALEDIBI- (DUZCE) [South West  1.3 km]'), (40.75, 31.36, 5.0, '1999.11.12', '18:14:00.00', 'YESILTEPE-KAYNASLI (DUZCE) [North West  2.0 km]'), (40.75, 31.39, 4.8, '1999.11.12', '22:21:00.00', 'DARIYERIBAKACAK-KAYNASLI (DUZCE) [East 0.4 km]'), (40.74, 31.4, 4.8, '1999.11.12', '17:57:00.00', 'DARIYERIBAKACAK-KAYNASLI (DUZCE) [South East  1.6 km]'), (40.76, 31.22, 4.8, '1999.11.12', '17:52:00.00', 'OZYANIK- (DUZCE) [South West  1.4 km]'), (40.72, 31.0, 4.7, '1999.11.13', '00:54:00.00', 'BAKACAK-GOLYAKA (DUZCE) [South East  2.4 km]'), (40.74, 31.38, 4.7, '1999.11.12', '19:16:00.00', 'YESILTEPE-KAYNASLI (DUZCE) [North East  0.2 km]'), (40.76, 31.11, 4.7, '1999.11.12', '18:24:00.00', 'AYDINPINAR- (DUZCE) [South East  0.3 km]'), (40.77, 31.26, 4.7, '1999.11.12', '17:54:00.00', 'FINDIKLI-KAYNASLI (DUZCE) [South East  0.4 km]'), (40.76, 31.38, 4.5, '1999.11.12', '20:54:00.00', 'DARIYERIBAKACAK-KAYNASLI (DUZCE) [North West  1.2 km]'), (40.74, 31.0, 4.5, '1999.11.12', '20:05:00.00', 'YUNUSEFENDI-GOLYAKA (DUZCE) [South West  1.1 km]'), (40.77, 31.2, 4.5, '1999.11.12', '19:07:00.00', 'GUVEN- (DUZCE) [South West  0.5 km]'), (40.76, 31.1, 4.4, '1999.11.12', '21:38:00.00', 'AYDINPINAR- (DUZCE) [South West  0.8 km]'), (40.75, 31.4, 4.3, '1999.11.13', '01:02:00.00', 'DARIYERIBAKACAK-KAYNASLI (DUZCE) [East 1.2 km]'), (40.8, 31.01, 4.2, '1999.11.13', '08:14:35.60', 'ICMELER-GOLYAKA (DUZCE) [South West  1.7 km]'), (40.74, 31.38, 4.2, '1999.11.13', '04:10:00.00', 'YESILTEPE-KAYNASLI (DUZCE) [North East  0.2 km]'), (40.75, 31.12, 4.2, '1999.11.13', '03:57:00.00', 'AYDINPINAR- (DUZCE) [South East  1.7 km]'), (40.75, 31.15, 4.2, '1999.11.13', '02:59:00.00', 'AKTARLA- (DUZCE) [North East  0.6 km]'), (40.75, 31.05, 4.2, '1999.11.12', '22:49:00.00', 'HAMAMUSTU-GOLYAKA (DUZCE) [North East  1.0 km]'), (40.75, 31.09, 4.2, '1999.11.12', '19:00:00.00', 'GOLORMANI- (DUZCE) [South East  1.2 km]'), (40.76, 31.3, 4.1, '1999.11.12', '22:38:00.00', 'TAVAK-KAYNASLI (DUZCE) [North 1.7 km]'), (40.75, 31.23, 4.0, '1999.11.13', '08:36:17.80', 'UGUR- (DUZCE) [North East  2.3 km]'), (40.81, 31.18, 4.0, '1999.11.13', '08:02:31.30', 'PINARLAR- (DUZCE) [North West  1.2 km]'), (40.75, 31.33, 4.0, '1999.11.13', '04:21:00.00', 'MURATBEY-KAYNASLI (DUZCE) [North 1.8 km]'), (40.77, 31.37, 4.0, '1999.11.13', '03:27:00.00', 'DARIYERIHASANBEY-KAYNASLI (DUZCE) [South East  2.4 km]'), (40.75, 31.35, 4.0, '1999.11.13', '01:57:00.00', 'MURATBEY-KAYNASLI (DUZCE) [North East  2.3 km]'), (40.73, 31.41, 4.0, '1999.11.12', '23:11:00.00', 'YESILTEPE-KAYNASLI (DUZCE) [South East  2.9 km]'), (40.74, 31.03, 4.0, '1999.11.12', '21:25:00.00', 'CAMLIBEL-GOLYAKA (DUZCE) [North East  0.9 km]'), (40.73, 31.22, 3.5, '1999.11.13', '13:13:55.30', 'UGUR- (DUZCE) [South East  1.4 km]')]\n"
     ]
    },
    {
     "name": "stderr",
     "output_type": "stream",
     "text": [
      "                                                                                \r"
     ]
    },
    {
     "name": "stdout",
     "output_type": "stream",
     "text": [
      "foreshocks:  []\n",
      "-------------------------------------\n",
      "quake:  9   (39.99, 27.36, 7.2, '1953.03.18', '19:06:16.10', 'SOGUCAK-YENICE (ÇANAKKALE) [South West  2.3 km]')\n"
     ]
    },
    {
     "name": "stderr",
     "output_type": "stream",
     "text": [
      "                                                                                \r"
     ]
    },
    {
     "name": "stdout",
     "output_type": "stream",
     "text": [
      "aftershocks:  [(39.96, 27.59, 5.5, '1953.03.18', '21:18:09.90', 'SOGUTKOY-GONEN (BALIKESIR) [North East  2.8 km]'), (40.0, 27.4, 5.3, '1953.03.18', '20:20:03.00', 'BALLICAY-YENICE (ÇANAKKALE) [North East  0.5 km]'), (40.1, 27.3, 4.9, '1953.03.19', '12:53:04.20', 'ASAGIINOVA-YENICE (ÇANAKKALE) [North East  2.0 km]'), (40.0, 27.4, 4.9, '1953.03.18', '22:28:00.00', 'BALLICAY-YENICE (ÇANAKKALE) [North East  0.5 km]'), (40.0, 27.4, 4.7, '1953.03.18', '23:28:55.00', 'BALLICAY-YENICE (ÇANAKKALE) [North East  0.5 km]')]\n"
     ]
    },
    {
     "name": "stderr",
     "output_type": "stream",
     "text": [
      "                                                                                \r"
     ]
    },
    {
     "name": "stdout",
     "output_type": "stream",
     "text": [
      "foreshocks:  []\n",
      "-------------------------------------\n",
      "quake:  10   (35.41, 27.2, 7.2, '1948.02.09', '12:58:18.60', 'AKDENIZ')\n"
     ]
    },
    {
     "name": "stderr",
     "output_type": "stream",
     "text": [
      "                                                                                \r"
     ]
    },
    {
     "name": "stdout",
     "output_type": "stream",
     "text": [
      "aftershocks:  []\n"
     ]
    },
    {
     "name": "stderr",
     "output_type": "stream",
     "text": [
      "[Stage 169:============================>                            (1 + 1) / 2]\r"
     ]
    },
    {
     "name": "stdout",
     "output_type": "stream",
     "text": [
      "foreshocks:  []\n",
      "-------------------------------------\n"
     ]
    },
    {
     "name": "stderr",
     "output_type": "stream",
     "text": [
      "                                                                                \r"
     ]
    }
   ],
   "source": [
    "cnt = 1\n",
    "for quake in top10quakes:\n",
    "    print(\"quake: \" ,cnt, \" \" , quake)\n",
    "    aftershockRDD = dataRDD.filter(lambda line: getAftershocks(quake, line))\n",
    "    print(\"aftershocks: \",aftershockRDD.collect())\n",
    "    foreshockRDD = dataRDD.filter(lambda line: getForeshocks(quake, line))\n",
    "    print(\"foreshocks: \", foreshockRDD.collect())\n",
    "    print(\"-------------------------------------\")\n",
    "    cnt += 1"
   ]
  }
 ],
 "metadata": {
  "interpreter": {
   "hash": "6389c4f3611612d81a5ee170de9679905eb10b2a5a31904a2f8d152d44906565"
  },
  "kernelspec": {
   "display_name": "Python 3.9.9 ('cs528venv': venv)",
   "language": "python",
   "name": "python3"
  },
  "language_info": {
   "codemirror_mode": {
    "name": "ipython",
    "version": 3
   },
   "file_extension": ".py",
   "mimetype": "text/x-python",
   "name": "python",
   "nbconvert_exporter": "python",
   "pygments_lexer": "ipython3",
   "version": "3.9.9"
  },
  "orig_nbformat": 4
 },
 "nbformat": 4,
 "nbformat_minor": 2
}
