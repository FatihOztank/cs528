{
 "cells": [
  {
   "cell_type": "code",
   "execution_count": 77,
   "metadata": {},
   "outputs": [],
   "source": [
    "from pyspark import SparkContext\n",
    "from operator import add\n",
    "import numpy as np\n",
    "import json\n",
    "import itertools\n",
    "sc = SparkContext.getOrCreate()\n"
   ]
  },
  {
   "cell_type": "code",
   "execution_count": 89,
   "metadata": {},
   "outputs": [],
   "source": [
    "def splitAndTake(line):\n",
    "    arr = line.split(\"\\t\")\n",
    "    for i in range(len(arr)):\n",
    "        if \"#\" in arr[i]:\n",
    "            index = i\n",
    "    numbers = arr[index]\n",
    "    numbers = list(numbers.split(\"#\"))\n",
    "    numbers = [int(x.replace(\"\\\"\",\"\").replace(\"'\",\"\")) for x in numbers]\n",
    "    combinations = itertools.combinations(numbers, 3)\n",
    "    return list(combinations)"
   ]
  },
  {
   "cell_type": "markdown",
   "metadata": {},
   "source": [
    "Format of the Lottery.txt file was hard to read with rdd's so I create a new file with much readable format"
   ]
  },
  {
   "cell_type": "code",
   "execution_count": 38,
   "metadata": {},
   "outputs": [],
   "source": [
    "with open(\"datasets/Lottery.txt\",\"r\") as inputFile:\n",
    "    txt_string = str(inputFile.readlines())\n",
    "    res = txt_string.replace(\"\\\"data\\\"\", \"\\n\").replace(\":\", \"\\t\").replace(\",\", \"\\t\")\n",
    "\n",
    "with open(\"fixedLottery.txt\", \"w\") as outFile:\n",
    "    outFile.write(res)"
   ]
  },
  {
   "cell_type": "code",
   "execution_count": 90,
   "metadata": {},
   "outputs": [
    {
     "data": {
      "text/plain": [
       "[((23, 39, 47), 7),\n",
       " ((10, 38, 41), 6),\n",
       " ((3, 8, 40), 6),\n",
       " ((9, 34, 36), 6),\n",
       " ((5, 38, 41), 6)]"
      ]
     },
     "execution_count": 90,
     "metadata": {},
     "output_type": "execute_result"
    }
   ],
   "source": [
    "dataRDD = sc.textFile('fixedLottery.txt')\n",
    "dataRDD = dataRDD.filter(lambda line: \"rakamlar\" in line)\n",
    "dataRDD = dataRDD.flatMap(lambda line: splitAndTake(line))\n",
    "dataRDD = dataRDD.map(lambda line: (line,1))\n",
    "dataRDD = dataRDD.reduceByKey(add) \n",
    "dataRDD = dataRDD.sortBy(lambda item : item[1],ascending=False)\n",
    "dataRDD.take(5)\n"
   ]
  },
  {
   "cell_type": "markdown",
   "metadata": {},
   "source": [
    "Above numbers are mostly occuring triple numbers in the lottery"
   ]
  }
 ],
 "metadata": {
  "interpreter": {
   "hash": "6389c4f3611612d81a5ee170de9679905eb10b2a5a31904a2f8d152d44906565"
  },
  "kernelspec": {
   "display_name": "Python 3.9.9 ('cs528venv': venv)",
   "language": "python",
   "name": "python3"
  },
  "language_info": {
   "codemirror_mode": {
    "name": "ipython",
    "version": 3
   },
   "file_extension": ".py",
   "mimetype": "text/x-python",
   "name": "python",
   "nbconvert_exporter": "python",
   "pygments_lexer": "ipython3",
   "version": "3.9.9"
  },
  "orig_nbformat": 4
 },
 "nbformat": 4,
 "nbformat_minor": 2
}
