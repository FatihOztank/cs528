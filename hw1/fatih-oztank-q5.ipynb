{
 "cells": [
  {
   "cell_type": "code",
   "execution_count": 78,
   "metadata": {},
   "outputs": [],
   "source": [
    "from pyspark import SparkContext\n",
    "import numpy as np\n",
    "sc = SparkContext.getOrCreate()\n"
   ]
  },
  {
   "cell_type": "code",
   "execution_count": 79,
   "metadata": {},
   "outputs": [],
   "source": [
    "def splitAndTake(line):\n",
    "    arr = line.split('\\t')\n",
    "    try:\n",
    "        date = str(arr[1])\n",
    "        #print(date)\n",
    "        rate = float(arr[2].strip().replace(\",\",\".\"))\n",
    "        return (date,rate)\n",
    "    except:\n",
    "        return None"
   ]
  },
  {
   "cell_type": "code",
   "execution_count": 80,
   "metadata": {},
   "outputs": [],
   "source": [
    "def shiftIndex(line):\n",
    "    return(line[0] + 1, line[1])"
   ]
  },
  {
   "cell_type": "code",
   "execution_count": 81,
   "metadata": {},
   "outputs": [],
   "source": [
    "def swapIndex(line):\n",
    "    return(line[1], line[0])"
   ]
  },
  {
   "cell_type": "code",
   "execution_count": 82,
   "metadata": {},
   "outputs": [],
   "source": [
    "dataRDD = sc.textFile('datasets/DollarDataset.txt')\n",
    "dataRDD = dataRDD.filter(lambda x: x[1] != \"\")\n",
    "dataRDD = dataRDD.map(lambda line: splitAndTake(line))\n",
    "dataRDD = dataRDD.zipWithIndex()\n",
    "dataRDD = dataRDD.map(lambda line: swapIndex(line))\n",
    "dataRDD_copy = dataRDD.map(lambda line: shiftIndex(line))"
   ]
  },
  {
   "cell_type": "code",
   "execution_count": 83,
   "metadata": {},
   "outputs": [],
   "source": [
    "tmp = dataRDD_copy.join(dataRDD) # join aynı indexlileri birleştiriyor"
   ]
  },
  {
   "cell_type": "code",
   "execution_count": 84,
   "metadata": {},
   "outputs": [],
   "source": [
    "def findRateDifference(line):\n",
    "    prev_date = line[1][0][0]\n",
    "    next_date = line[1][1][0]\n",
    "    prev_rate = line[1][0][1]\n",
    "    next_rate = line[1][1][1]\n",
    "    ratio = next_rate / prev_rate\n",
    "    return(prev_date, next_date, ratio)"
   ]
  },
  {
   "cell_type": "code",
   "execution_count": 85,
   "metadata": {},
   "outputs": [
    {
     "data": {
      "text/plain": [
       "[('19-08-1960', '22-08-1960', 3.2142857142857144),\n",
       " ('24-01-1980', '25-01-1980', 2.0),\n",
       " ('07-08-1970', '10-08-1970', 1.65),\n",
       " ('11-06-1979', '12-06-1979', 1.320754716981132),\n",
       " ('28-02-1978', '01-03-1978', 1.2987012987012987),\n",
       " ('20-09-1977', '21-09-1977', 1.1),\n",
       " ('22-10-2008', '23-10-2008', 1.0723684210526314),\n",
       " ('28-02-1977', '01-03-1977', 1.0606060606060606),\n",
       " ('09-04-1979', '10-04-1979', 1.06),\n",
       " ('06-06-1980', '09-06-1980', 1.0583446404341927)]"
      ]
     },
     "execution_count": 85,
     "metadata": {},
     "output_type": "execute_result"
    }
   ],
   "source": [
    "rateRDD = tmp.sortBy(lambda x: x[0])\n",
    "rateRDD = rateRDD.filter(lambda x: (x[1][0] != None) and (x[1][1] != None))\n",
    "rateRDD = rateRDD.map(lambda line: findRateDifference(line))\n",
    "rateRDD = rateRDD.sortBy(lambda x : x[2],ascending=False)\n",
    "rateRDD.take(10)"
   ]
  },
  {
   "cell_type": "markdown",
   "metadata": {},
   "source": [
    "increase is calculated by dividing next day value to previous day value"
   ]
  }
 ],
 "metadata": {
  "interpreter": {
   "hash": "6389c4f3611612d81a5ee170de9679905eb10b2a5a31904a2f8d152d44906565"
  },
  "kernelspec": {
   "display_name": "Python 3.9.9 ('cs528venv': venv)",
   "language": "python",
   "name": "python3"
  },
  "language_info": {
   "codemirror_mode": {
    "name": "ipython",
    "version": 3
   },
   "file_extension": ".py",
   "mimetype": "text/x-python",
   "name": "python",
   "nbconvert_exporter": "python",
   "pygments_lexer": "ipython3",
   "version": "3.9.9"
  },
  "orig_nbformat": 4
 },
 "nbformat": 4,
 "nbformat_minor": 2
}
