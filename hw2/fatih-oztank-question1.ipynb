{
 "cells": [
  {
   "cell_type": "code",
   "execution_count": null,
   "metadata": {},
   "outputs": [],
   "source": [
    "from pyspark.sql import SparkSession\n",
    "from pyspark.sql.functions import UserDefinedFunction\n",
    "from pyspark.sql.types import FloatType\n",
    "from pyspark import SparkContext\n",
    "spark = SparkSession.builder.getOrCreate()\n"
   ]
  },
  {
   "cell_type": "code",
   "execution_count": 2,
   "metadata": {},
   "outputs": [
    {
     "name": "stdout",
     "output_type": "stream",
     "text": [
      "+-------+-----------------+\n",
      "|movieID|              tag|\n",
      "+-------+-----------------+\n",
      "|  60756|            funny|\n",
      "|  60756|  Highly quotable|\n",
      "|  60756|     will ferrell|\n",
      "|  89774|     Boxing story|\n",
      "|  89774|              MMA|\n",
      "|  89774|        Tom Hardy|\n",
      "| 106782|            drugs|\n",
      "| 106782|Leonardo DiCaprio|\n",
      "| 106782|  Martin Scorsese|\n",
      "|  48516|     way too long|\n",
      "|    431|        Al Pacino|\n",
      "|    431|         gangster|\n",
      "|    431|            mafia|\n",
      "|   1221|        Al Pacino|\n",
      "|   1221|            Mafia|\n",
      "|   5995|        holocaust|\n",
      "|   5995|       true story|\n",
      "|  44665|     twist ending|\n",
      "|  52604|  Anthony Hopkins|\n",
      "|  52604|  courtroom drama|\n",
      "+-------+-----------------+\n",
      "only showing top 20 rows\n",
      "\n"
     ]
    }
   ],
   "source": [
    "tagDF = spark.read.option(\"header\", \"true\").option(\"delimiter\", \",\")\\\n",
    "    .option(\"inferSchema\", \"true\").csv(\"../ml-latest-small/tags.csv\")\n",
    "tagDF = tagDF.select(\"movieID\", \"tag\")\n",
    "tagDF.show()"
   ]
  },
  {
   "cell_type": "code",
   "execution_count": 3,
   "metadata": {},
   "outputs": [
    {
     "name": "stdout",
     "output_type": "stream",
     "text": [
      "+-------+------+\n",
      "|movieID|rating|\n",
      "+-------+------+\n",
      "|      1|   4.0|\n",
      "|      3|   4.0|\n",
      "|      6|   4.0|\n",
      "|     47|   5.0|\n",
      "|     50|   5.0|\n",
      "|     70|   3.0|\n",
      "|    101|   5.0|\n",
      "|    110|   4.0|\n",
      "|    151|   5.0|\n",
      "|    157|   5.0|\n",
      "|    163|   5.0|\n",
      "|    216|   5.0|\n",
      "|    223|   3.0|\n",
      "|    231|   5.0|\n",
      "|    235|   4.0|\n",
      "|    260|   5.0|\n",
      "|    296|   3.0|\n",
      "|    316|   3.0|\n",
      "|    333|   5.0|\n",
      "|    349|   4.0|\n",
      "+-------+------+\n",
      "only showing top 20 rows\n",
      "\n"
     ]
    }
   ],
   "source": [
    "ratingDF = spark.read.option(\"header\", \"true\").option(\"delimiter\", \",\")\\\n",
    "    .option(\"inferSchema\", \"true\").csv(\"../ml-latest-small/ratings.csv\")\n",
    "ratingDF = ratingDF.select(\"movieID\", \"rating\")\n",
    "ratingDF.show()"
   ]
  },
  {
   "cell_type": "code",
   "execution_count": 4,
   "metadata": {},
   "outputs": [
    {
     "name": "stdout",
     "output_type": "stream",
     "text": [
      "+------+-----+\n",
      "|rating|  tag|\n",
      "+------+-----+\n",
      "|   4.0|pixar|\n",
      "|   4.0|pixar|\n",
      "|   4.0|  fun|\n",
      "|   4.0|pixar|\n",
      "|   4.0|pixar|\n",
      "+------+-----+\n",
      "only showing top 5 rows\n",
      "\n"
     ]
    }
   ],
   "source": [
    "# matching ratings with tags in here\n",
    "joinedDF = ratingDF.join(tagDF,\"movieID\", \"outer\")\n",
    "joinedDF = joinedDF.select(\"rating\", \"tag\")\n",
    "joinedDF.show(5)"
   ]
  },
  {
   "cell_type": "code",
   "execution_count": 5,
   "metadata": {},
   "outputs": [
    {
     "data": {
      "text/plain": [
       "[Row(tag='no dialogue', avg(rating)=5.0),\n",
       " Row(tag='creativity', avg(rating)=5.0),\n",
       " Row(tag='procedural', avg(rating)=5.0),\n",
       " Row(tag='human rights', avg(rating)=5.0),\n",
       " Row(tag='free to download', avg(rating)=5.0),\n",
       " Row(tag='thought provoking', avg(rating)=4.75),\n",
       " Row(tag='parrots', avg(rating)=4.75),\n",
       " Row(tag='jon hamm', avg(rating)=4.75),\n",
       " Row(tag='Dystopia', avg(rating)=4.75),\n",
       " Row(tag='movies about movies', avg(rating)=4.666666666666667)]"
      ]
     },
     "execution_count": 5,
     "metadata": {},
     "output_type": "execute_result"
    }
   ],
   "source": [
    "# taking the average rating for each tag in here\n",
    "uniqueTagsDF = joinedDF.groupby(\"tag\").sum(\"rating\").select(\"tag\", \"sum(rating)\")\n",
    "uniqueTagsDF = joinedDF.groupby(\"tag\").count()\n",
    "uniqueTagsDF = joinedDF.groupby(\"tag\").avg().sort(\"avg(rating)\",ascending=False)\n",
    "\n",
    "uniqueTagsDF.take(10)"
   ]
  }
 ],
 "metadata": {
  "interpreter": {
   "hash": "6389c4f3611612d81a5ee170de9679905eb10b2a5a31904a2f8d152d44906565"
  },
  "kernelspec": {
   "display_name": "Python 3.9.9 ('cs528venv': venv)",
   "language": "python",
   "name": "python3"
  },
  "language_info": {
   "codemirror_mode": {
    "name": "ipython",
    "version": 3
   },
   "file_extension": ".py",
   "mimetype": "text/x-python",
   "name": "python",
   "nbconvert_exporter": "python",
   "pygments_lexer": "ipython3",
   "version": "3.9.13"
  },
  "orig_nbformat": 4
 },
 "nbformat": 4,
 "nbformat_minor": 2
}
