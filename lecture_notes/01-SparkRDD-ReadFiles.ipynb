{
 "cells": [
  {
   "cell_type": "code",
   "execution_count": 5,
   "metadata": {
    "colab": {
     "base_uri": "https://localhost:8080/"
    },
    "id": "0op7ruMhpNXP",
    "outputId": "71aee44c-c259-4376-f6fa-73c043420978"
   },
   "outputs": [
    {
     "name": "stdout",
     "output_type": "stream",
     "text": [
      "['5,5', '15,17', '15,16', '5,6', '6,6', '16,16', '8,8', '7,6', '17,17', '6,7', '7,8', '18,18', '8,6', '17,16', '5,8', '17,16', '8,8', '16,17', '17,18', '18,16', '5,15', '15,7', '15,6', '5,16', '6,16', '16,6', '8,18', '7,16', '17,7', '6,7', '7,8', '18,8', '8,16', '17,6', '5,18', '17,6', '8,18', '16,7', '17,8', '18,6']\n",
      "Transformation completed!!!\n",
      "Sorting completed!!!\n",
      "[(18, 18), (17, 18), (8, 18), (5, 18), (8, 18), (15, 17), (17, 17), (16, 17), (15, 16), (16, 16)]\n"
     ]
    }
   ],
   "source": [
    "from pyspark import SparkContext\n",
    "sc = SparkContext.getOrCreate()\n",
    "pointsRDD = sc.textFile('datasets/points.txt')\n",
    "print(pointsRDD.collect())\n",
    "\n",
    "def transformLineIntoTuple(line):\n",
    "    arr = line.split(',')\n",
    "    a = int(arr[0])\n",
    "    b = int(arr[1])\n",
    "    return (a,b)\n",
    "\n",
    "#'5,5'. --->. (5,5)\n",
    "\n",
    "#print(transformLineIntoTuple('13,12'))\n",
    "transformedRDD = pointsRDD.map(lambda l : transformLineIntoTuple(l))\n",
    "print(\"Transformation completed!!!\")\n",
    "sortedRDD = transformedRDD.sortBy(lambda x : x[1],ascending=False) #RDD Transformation\n",
    "print(\"Sorting completed!!!\")\n",
    "print(sortedRDD.take(10))"
   ]
  },
  {
   "cell_type": "code",
   "execution_count": null,
   "metadata": {
    "id": "yuktEcm8qm6u"
   },
   "outputs": [],
   "source": []
  }
 ],
 "metadata": {
  "accelerator": "GPU",
  "colab": {
   "name": "01-SparkRDD-ReadFiles.ipynb",
   "provenance": []
  },
  "kernelspec": {
   "display_name": "Python 3",
   "language": "python",
   "name": "python3"
  },
  "language_info": {
   "codemirror_mode": {
    "name": "ipython",
    "version": 3
   },
   "file_extension": ".py",
   "mimetype": "text/x-python",
   "name": "python",
   "nbconvert_exporter": "python",
   "pygments_lexer": "ipython3",
   "version": "3.8.3"
  }
 },
 "nbformat": 4,
 "nbformat_minor": 1
}
