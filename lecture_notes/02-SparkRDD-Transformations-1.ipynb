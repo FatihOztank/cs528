{
 "cells": [
  {
   "cell_type": "code",
   "execution_count": 7,
   "metadata": {},
   "outputs": [
    {
     "data": {
      "text/plain": [
       "[(\"China People's Republic of\", 'Asia', 'Beijing', 1315844000),\n",
       " ('India', 'Asia', 'New Delhi', 1103371000),\n",
       " ('United States', 'North America', 'Washington D.C.', 298212900),\n",
       " ('Indonesia', 'Asia', 'Jakarta', 222781500),\n",
       " ('Brazil', 'South America', 'Brasília', 186404900),\n",
       " ('Pakistan', 'Asia', 'Islamabad', 157935100),\n",
       " ('Russia', 'Asia', 'Moscow', 143201600),\n",
       " ('Bangladesh', 'Asia', 'Dhaka', 141822300),\n",
       " ('Nigeria', 'Africa', 'Abuja', 131529700),\n",
       " ('Japan', 'Asia', 'Tokyo', 128084700),\n",
       " ('Mexico', 'North America', 'Mexico City', 107029400),\n",
       " ('Vietnam', 'Asia', 'Hanoi', 84238230),\n",
       " ('Philippines', 'Asia', 'Manila', 83054480),\n",
       " ('Germany', 'Europe', 'Berlin', 82689210),\n",
       " ('Ethiopia', 'Africa', 'Addis Ababa', 77430700),\n",
       " ('Egypt', 'Africa', 'Cairo', 74032880),\n",
       " ('Turkey', 'Europe', 'Ankara', 73192840),\n",
       " ('Iran', 'Asia', 'Tehran', 69515210),\n",
       " ('Thailand', 'Asia', 'Bangkok', 64232760)]"
      ]
     },
     "execution_count": 7,
     "metadata": {},
     "output_type": "execute_result"
    }
   ],
   "source": [
    "from pyspark import SparkContext\n",
    "sc = SparkContext.getOrCreate()\n",
    "#map, sortBy, filter\n",
    "worldRDD = sc.textFile('datasets/world.txt')\n",
    "\n",
    "def splitAndTake(line):\n",
    "    info = line.split(',')\n",
    "    country = info[0]\n",
    "    continent = info[1]\n",
    "    capital = info[2]\n",
    "    population = int(info[3])\n",
    "    return (country,continent,capital,population)\n",
    "\n",
    "#print(worldRDD.take(5))\n",
    "worldRDD = worldRDD.map(lambda x : splitAndTake(x))\n",
    "worldRDD = worldRDD.sortBy(lambda a : a[3],ascending=False)\n",
    "worldRDD.take(19)"
   ]
  },
  {
   "cell_type": "code",
   "execution_count": 13,
   "metadata": {},
   "outputs": [
    {
     "data": {
      "text/plain": [
       "[('Taiwan (Republic of China)', 'Asia', 'Taipei', 22894384),\n",
       " ('Tajikistan', 'Asia', 'Dushanbe', 6506980),\n",
       " ('Tanzania', 'Africa', 'Dar es Salaam', 38328810),\n",
       " ('Thailand', 'Asia', 'Bangkok', 64232760),\n",
       " ('Togo', 'Africa', 'Lomé', 6145004),\n",
       " ('Tonga', 'Africa', \"Nuku'alofa\", 102311),\n",
       " ('Transnistria', 'Europe', 'Tiraspol', 555347),\n",
       " ('Trinidad and Tobago', 'North America', 'Port of Spain', 1305236),\n",
       " ('Tunisia', 'Africa', 'Tunis', 10102470),\n",
       " ('Turkey', 'Europe', 'Ankara', 73192840)]"
      ]
     },
     "execution_count": 13,
     "metadata": {},
     "output_type": "execute_result"
    }
   ],
   "source": [
    "from pyspark import SparkContext\n",
    "sc = SparkContext.getOrCreate()\n",
    "#map, sortBy, filter\n",
    "worldRDD = sc.textFile('datasets/world.txt')\n",
    "\n",
    "def splitAndTake(line):\n",
    "    info = line.split(',')\n",
    "    country = info[0]\n",
    "    continent = info[1]\n",
    "    capital = info[2]\n",
    "    population = int(info[3])\n",
    "    return (country,continent,capital,population)\n",
    "\n",
    "#print(worldRDD.take(5))\n",
    "#Countries that name starts with T letter\n",
    "worldRDD = worldRDD.map(lambda x : splitAndTake(x))\n",
    "worldRDD = worldRDD.filter(lambda x :  x[0].startswith('T'))#x[1]=='Africa') # Filter is a Transformation\n",
    "worldRDD.take(10)"
   ]
  },
  {
   "cell_type": "code",
   "execution_count": 21,
   "metadata": {},
   "outputs": [
    {
     "data": {
      "text/plain": [
       "[('Africa', 55),\n",
       " ('Asia', 49),\n",
       " ('Europe', 46),\n",
       " ('North America', 23),\n",
       " ('Oceana', 13),\n",
       " ('South America', 12)]"
      ]
     },
     "execution_count": 21,
     "metadata": {},
     "output_type": "execute_result"
    }
   ],
   "source": [
    "#Number of countries on each Continent\n",
    "from pyspark import SparkContext\n",
    "sc = SparkContext.getOrCreate()\n",
    "#map, sortBy, filter\n",
    "worldRDD = sc.textFile('datasets/world.txt')\n",
    "\n",
    "def splitAndTake(line):\n",
    "    info = line.split(',')\n",
    "    country = info[0]\n",
    "    continent = info[1]\n",
    "    capital = info[2]\n",
    "    population = int(info[3])\n",
    "    return (country,continent,capital,population)\n",
    "\n",
    "#print(worldRDD.take(5))\n",
    "#Countries that name starts with T letter\n",
    "worldRDD = worldRDD.map(lambda x : splitAndTake(x))\n",
    "worldRDD = worldRDD.groupBy(lambda x : x[1])\n",
    "worldRDD = worldRDD.map(lambda x : (x[0], len(list(x[1]))))\n",
    "worldRDD = worldRDD.sortBy(lambda x : x[1], ascending=False)\n",
    "worldRDD.take(10)"
   ]
  },
  {
   "cell_type": "code",
   "execution_count": 31,
   "metadata": {},
   "outputs": [
    {
     "data": {
      "text/plain": [
       "[('Asia', <pyspark.resultiterable.ResultIterable at 0x7ff6e9f0a130>),\n",
       " ('Oceana', <pyspark.resultiterable.ResultIterable at 0x7ff6e96b9580>),\n",
       " ('Europe', <pyspark.resultiterable.ResultIterable at 0x7ff6e837f1c0>),\n",
       " ('Africa', <pyspark.resultiterable.ResultIterable at 0x7ff6e837f280>),\n",
       " ('North America', <pyspark.resultiterable.ResultIterable at 0x7ff6e837f5b0>),\n",
       " ('South America', <pyspark.resultiterable.ResultIterable at 0x7ff6e9f0aca0>)]"
      ]
     },
     "execution_count": 31,
     "metadata": {},
     "output_type": "execute_result"
    }
   ],
   "source": [
    "#Number of countries on each Continent , Study Homework :)\n",
    "from pyspark import SparkContext\n",
    "sc = SparkContext.getOrCreate()\n",
    "#map, sortBy, filter\n",
    "worldRDD = sc.textFile('datasets/world.txt')\n",
    "\n",
    "def splitAndTake(line):\n",
    "    info = line.split(',')\n",
    "    country = info[0]\n",
    "    continent = info[1]\n",
    "    capital = info[2]\n",
    "    population = int(info[3])\n",
    "    return (country,continent,capital,population)\n",
    "\n",
    "#print(worldRDD.take(5))\n",
    "#Countries that name starts with T letter\n",
    "worldRDD = worldRDD.map(lambda x : splitAndTake(x))\n",
    "worldRDD = worldRDD.groupBy(lambda x : x[1])\n",
    "worldRDD = worldRDD.map(lambda x : (x[0],x[1]))\n",
    "#worldRDD = worldRDD.map(lambda x : (x[0], x[1].reduce(lambda x,y : x[3]+y[3])))\n",
    "\n",
    "worldRDD.take(10)"
   ]
  },
  {
   "cell_type": "code",
   "execution_count": null,
   "metadata": {},
   "outputs": [],
   "source": []
  }
 ],
 "metadata": {
  "kernelspec": {
   "display_name": "Python 3",
   "language": "python",
   "name": "python3"
  },
  "language_info": {
   "codemirror_mode": {
    "name": "ipython",
    "version": 3
   },
   "file_extension": ".py",
   "mimetype": "text/x-python",
   "name": "python",
   "nbconvert_exporter": "python",
   "pygments_lexer": "ipython3",
   "version": "3.8.3"
  }
 },
 "nbformat": 4,
 "nbformat_minor": 4
}
