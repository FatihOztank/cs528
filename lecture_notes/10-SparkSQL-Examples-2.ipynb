{
 "cells": [
  {
   "cell_type": "code",
   "execution_count": 14,
   "metadata": {},
   "outputs": [
    {
     "name": "stdout",
     "output_type": "stream",
     "text": [
      "+---+--------------------+-------+-------+------------------+\n",
      "| id|                name|movieid|movieid|         moviename|\n",
      "+---+--------------------+-------+-------+------------------+\n",
      "|  1|           Eric Dane|      2|      2|     The Last Ship|\n",
      "|  2|        Adam Baldwin|      2|      2|     The Last Ship|\n",
      "|  3|     Charles Parnell|      2|      2|     The Last Ship|\n",
      "|  4|         Billy Burke|      6|      6|        Revolution|\n",
      "|  5|    Tracy Spiridakos|      6|      6|        Revolution|\n",
      "|  6|  Giancarlo Esposito|      6|      6|        Revolution|\n",
      "|  7|        Damon Wayans|      1|      1|     Lethal Weapon|\n",
      "|  8|     Clayne Crawford|      1|      1|     Lethal Weapon|\n",
      "|  9|      Joseph Fiennes|      5|      5|      Flashforward|\n",
      "| 10|      Jack Davenport|      5|      5|      Flashforward|\n",
      "| 11|    Zachary Knighton|      5|      5|      Flashforward|\n",
      "| 12|        Jim Caviezel|      3|      3|Person of Interest|\n",
      "| 13|     Michael Emerson|      3|      3|Person of Interest|\n",
      "| 14|    Taraji P. Henson|      3|      3|Person of Interest|\n",
      "| 15|      Peter Dinklage|      4|      4|   Game of Thrones|\n",
      "| 16|       Emilia Clarke|      4|      4|   Game of Thrones|\n",
      "| 17|       Kit Harington|      4|      4|   Game of Thrones|\n",
      "| 18|Nikolaj Coster-Wa...|      4|      4|   Game of Thrones|\n",
      "| 20|       Josh Holloway|      7|      7|              Lost|\n",
      "| 21|    Evangeline Lilly|      7|      7|              Lost|\n",
      "| 22|         Matthew Fox|      7|      7|              Lost|\n",
      "+---+--------------------+-------+-------+------------------+\n",
      "\n"
     ]
    }
   ],
   "source": [
    "from pyspark.sql import SparkSession\n",
    "\n",
    "spark = SparkSession.builder.getOrCreate()\n",
    "actorsDF = spark.read.option('header','true').option('inferSchema','true').csv('datasets/join-actors.txt')\n",
    "seriesDF = spark.read.option('header','true').option('inferSchema','true').csv('datasets/series')\n",
    "actorsDF.createOrReplaceTempView('actors')\n",
    "seriesDF.createOrReplaceTempView('series')\n",
    "\n",
    "joinedDF = spark.sql('select * from actors a,series s where s.movieid=a.movieid')\n",
    "joinedDF.show(100)"
   ]
  },
  {
   "cell_type": "code",
   "execution_count": 15,
   "metadata": {},
   "outputs": [
    {
     "name": "stdout",
     "output_type": "stream",
     "text": [
      "+----+--------------------+-------+-------+------------------+\n",
      "|  id|                name|movieid|movieid|         moviename|\n",
      "+----+--------------------+-------+-------+------------------+\n",
      "|  19|     Ahmet Demirelli|   null|   null|              null|\n",
      "|   7|        Damon Wayans|      1|      1|     Lethal Weapon|\n",
      "|   8|     Clayne Crawford|      1|      1|     Lethal Weapon|\n",
      "|   1|           Eric Dane|      2|      2|     The Last Ship|\n",
      "|   2|        Adam Baldwin|      2|      2|     The Last Ship|\n",
      "|   3|     Charles Parnell|      2|      2|     The Last Ship|\n",
      "|  12|        Jim Caviezel|      3|      3|Person of Interest|\n",
      "|  13|     Michael Emerson|      3|      3|Person of Interest|\n",
      "|  14|    Taraji P. Henson|      3|      3|Person of Interest|\n",
      "|  15|      Peter Dinklage|      4|      4|   Game of Thrones|\n",
      "|  16|       Emilia Clarke|      4|      4|   Game of Thrones|\n",
      "|  17|       Kit Harington|      4|      4|   Game of Thrones|\n",
      "|  18|Nikolaj Coster-Wa...|      4|      4|   Game of Thrones|\n",
      "|   9|      Joseph Fiennes|      5|      5|      Flashforward|\n",
      "|  10|      Jack Davenport|      5|      5|      Flashforward|\n",
      "|  11|    Zachary Knighton|      5|      5|      Flashforward|\n",
      "|   4|         Billy Burke|      6|      6|        Revolution|\n",
      "|   5|    Tracy Spiridakos|      6|      6|        Revolution|\n",
      "|   6|  Giancarlo Esposito|      6|      6|        Revolution|\n",
      "|  20|       Josh Holloway|      7|      7|              Lost|\n",
      "|  21|    Evangeline Lilly|      7|      7|              Lost|\n",
      "|  22|         Matthew Fox|      7|      7|              Lost|\n",
      "|null|                null|   null|      8|  Leyle ile Mecnun|\n",
      "+----+--------------------+-------+-------+------------------+\n",
      "\n"
     ]
    }
   ],
   "source": [
    "joinedDF = spark.sql('select * from actors full outer join series on actors.movieid=series.movieid')\n",
    "joinedDF.show(100)"
   ]
  },
  {
   "cell_type": "code",
   "execution_count": 16,
   "metadata": {},
   "outputs": [
    {
     "name": "stdout",
     "output_type": "stream",
     "text": [
      "+-------+------------------+\n",
      "|movieid|         moviename|\n",
      "+-------+------------------+\n",
      "|      1|     Lethal Weapon|\n",
      "|      2|     The Last Ship|\n",
      "|      3|Person of Interest|\n",
      "|      4|   Game of Thrones|\n",
      "|      5|      Flashforward|\n",
      "|      6|        Revolution|\n",
      "|      7|              Lost|\n",
      "|      8|  Leyle ile Mecnun|\n",
      "+-------+------------------+\n",
      "\n"
     ]
    },
    {
     "data": {
      "text/plain": [
       "DataFrame[]"
      ]
     },
     "execution_count": 16,
     "metadata": {},
     "output_type": "execute_result"
    }
   ],
   "source": [
    "seriesDF.show()\n",
    "spark.sql('insert into series (movieid,moviename) values (1,\"Friends\")') "
   ]
  },
  {
   "cell_type": "code",
   "execution_count": 17,
   "metadata": {},
   "outputs": [
    {
     "name": "stdout",
     "output_type": "stream",
     "text": [
      "+-------+------------------+\n",
      "|movieid|         moviename|\n",
      "+-------+------------------+\n",
      "|      1|     Lethal Weapon|\n",
      "|      2|     The Last Ship|\n",
      "|      3|Person of Interest|\n",
      "|      4|   Game of Thrones|\n",
      "|      5|      Flashforward|\n",
      "|      6|        Revolution|\n",
      "|      7|              Lost|\n",
      "|      8|  Leyle ile Mecnun|\n",
      "|      1|           Friends|\n",
      "+-------+------------------+\n",
      "\n"
     ]
    }
   ],
   "source": [
    "seriesDF = spark.read.option('header','true').option('inferSchema','true').csv('datasets/series')\n",
    "seriesDF.show()"
   ]
  },
  {
   "cell_type": "code",
   "execution_count": null,
   "metadata": {},
   "outputs": [],
   "source": []
  }
 ],
 "metadata": {
  "kernelspec": {
   "display_name": "Python 3",
   "language": "python",
   "name": "python3"
  },
  "language_info": {
   "codemirror_mode": {
    "name": "ipython",
    "version": 3
   },
   "file_extension": ".py",
   "mimetype": "text/x-python",
   "name": "python",
   "nbconvert_exporter": "python",
   "pygments_lexer": "ipython3",
   "version": "3.8.3"
  }
 },
 "nbformat": 4,
 "nbformat_minor": 4
}
