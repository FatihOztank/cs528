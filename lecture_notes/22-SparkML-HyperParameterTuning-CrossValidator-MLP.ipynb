{
 "cells": [
  {
   "cell_type": "code",
   "execution_count": 4,
   "metadata": {},
   "outputs": [
    {
     "name": "stderr",
     "output_type": "stream",
     "text": [
      "22/05/15 23:03:38 WARN BlockManager: Block rdd_21_0 already exists on this machine; not re-adding it\n",
      "22/05/15 23:03:38 WARN BlockManager: Block rdd_21_0 already exists on this machine; not re-adding it\n",
      "22/05/15 23:03:42 WARN BlockManager: Block rdd_251_0 already exists on this machine; not re-adding it\n",
      "22/05/15 23:03:43 ERROR StrongWolfeLineSearch: Encountered bad values in function evaluation. Decreasing step size to 0.5\n",
      "22/05/15 23:03:46 ERROR StrongWolfeLineSearch: Encountered bad values in function evaluation. Decreasing step size to 0.5\n",
      "22/05/15 23:03:46 ERROR StrongWolfeLineSearch: Encountered bad values in function evaluation. Decreasing step size to 0.25\n",
      "22/05/15 23:03:46 ERROR StrongWolfeLineSearch: Encountered bad values in function evaluation. Decreasing step size to 0.125\n",
      "22/05/15 23:03:46 ERROR StrongWolfeLineSearch: Encountered bad values in function evaluation. Decreasing step size to 0.0625\n",
      "22/05/15 23:03:46 ERROR StrongWolfeLineSearch: Encountered bad values in function evaluation. Decreasing step size to 0.046875\n",
      "22/05/15 23:03:46 ERROR LBFGS: Failure! Resetting history: breeze.optimize.FirstOrderException: Line search zoom failed\n",
      "22/05/15 23:03:46 ERROR LBFGS: Failure! Resetting history: breeze.optimize.FirstOrderException: Line search failed\n",
      "22/05/15 23:03:48 ERROR LBFGS: Failure! Resetting history: breeze.optimize.FirstOrderException: Line search failed\n",
      "22/05/15 23:03:50 ERROR StrongWolfeLineSearch: Encountered bad values in function evaluation. Decreasing step size to 0.5\n",
      "22/05/15 23:03:50 ERROR StrongWolfeLineSearch: Encountered bad values in function evaluation. Decreasing step size to 0.25\n",
      "22/05/15 23:03:50 ERROR StrongWolfeLineSearch: Encountered bad values in function evaluation. Decreasing step size to 0.5\n",
      "22/05/15 23:03:50 ERROR StrongWolfeLineSearch: Encountered bad values in function evaluation. Decreasing step size to 0.5\n",
      "22/05/15 23:03:50 ERROR StrongWolfeLineSearch: Encountered bad values in function evaluation. Decreasing step size to 0.25\n",
      "22/05/15 23:03:50 ERROR StrongWolfeLineSearch: Encountered bad values in function evaluation. Decreasing step size to 0.25\n",
      "22/05/15 23:03:50 ERROR StrongWolfeLineSearch: Encountered bad values in function evaluation. Decreasing step size to 0.125\n",
      "22/05/15 23:03:50 ERROR StrongWolfeLineSearch: Encountered bad values in function evaluation. Decreasing step size to 0.125\n",
      "22/05/15 23:03:50 ERROR StrongWolfeLineSearch: Encountered bad values in function evaluation. Decreasing step size to 0.5\n",
      "22/05/15 23:03:50 ERROR StrongWolfeLineSearch: Encountered bad values in function evaluation. Decreasing step size to 0.25\n",
      "22/05/15 23:03:50 ERROR StrongWolfeLineSearch: Encountered bad values in function evaluation. Decreasing step size to 0.5\n",
      "22/05/15 23:03:50 ERROR StrongWolfeLineSearch: Encountered bad values in function evaluation. Decreasing step size to 0.125\n",
      "22/05/15 23:03:50 ERROR StrongWolfeLineSearch: Encountered bad values in function evaluation. Decreasing step size to 0.25\n",
      "22/05/15 23:03:50 ERROR StrongWolfeLineSearch: Encountered bad values in function evaluation. Decreasing step size to 0.0625\n",
      "22/05/15 23:03:50 ERROR StrongWolfeLineSearch: Encountered bad values in function evaluation. Decreasing step size to 0.125\n",
      "22/05/15 23:03:50 ERROR StrongWolfeLineSearch: Encountered bad values in function evaluation. Decreasing step size to 0.03125\n",
      "22/05/15 23:03:50 ERROR StrongWolfeLineSearch: Encountered bad values in function evaluation. Decreasing step size to 0.0625\n",
      "22/05/15 23:03:50 ERROR StrongWolfeLineSearch: Encountered bad values in function evaluation. Decreasing step size to 0.015625\n",
      "22/05/15 23:03:50 ERROR StrongWolfeLineSearch: Encountered bad values in function evaluation. Decreasing step size to 0.03125\n",
      "22/05/15 23:03:50 ERROR StrongWolfeLineSearch: Encountered bad values in function evaluation. Decreasing step size to 0.0078125\n",
      "22/05/15 23:03:50 ERROR StrongWolfeLineSearch: Encountered bad values in function evaluation. Decreasing step size to 0.00390625\n",
      "22/05/15 23:03:50 ERROR StrongWolfeLineSearch: Encountered bad values in function evaluation. Decreasing step size to 0.0234375\n",
      "22/05/15 23:03:50 ERROR StrongWolfeLineSearch: Encountered bad values in function evaluation. Decreasing step size to 0.001953125\n",
      "22/05/15 23:03:50 ERROR StrongWolfeLineSearch: Encountered bad values in function evaluation. Decreasing step size to 9.765625E-4\n",
      "22/05/15 23:03:50 ERROR LBFGS: Failure! Resetting history: breeze.optimize.FirstOrderException: Line search failed\n",
      "22/05/15 23:03:50 ERROR LBFGS: Failure! Resetting history: breeze.optimize.FirstOrderException: Line search zoom failed\n",
      "22/05/15 23:03:50 ERROR LBFGS: Failure! Resetting history: breeze.optimize.FirstOrderException: Line search failed\n",
      "22/05/15 23:03:51 ERROR StrongWolfeLineSearch: Encountered bad values in function evaluation. Decreasing step size to 0.5\n",
      "22/05/15 23:03:51 ERROR StrongWolfeLineSearch: Encountered bad values in function evaluation. Decreasing step size to 0.25\n",
      "22/05/15 23:03:51 ERROR StrongWolfeLineSearch: Encountered bad values in function evaluation. Decreasing step size to 0.125\n",
      "22/05/15 23:03:52 ERROR StrongWolfeLineSearch: Encountered bad values in function evaluation. Decreasing step size to 0.5\n",
      "22/05/15 23:03:52 ERROR StrongWolfeLineSearch: Encountered bad values in function evaluation. Decreasing step size to 0.25\n",
      "22/05/15 23:03:52 ERROR StrongWolfeLineSearch: Encountered bad values in function evaluation. Decreasing step size to 0.5\n",
      "22/05/15 23:03:52 ERROR StrongWolfeLineSearch: Encountered bad values in function evaluation. Decreasing step size to 0.25\n",
      "22/05/15 23:03:52 ERROR StrongWolfeLineSearch: Encountered bad values in function evaluation. Decreasing step size to 0.125\n",
      "22/05/15 23:03:52 ERROR StrongWolfeLineSearch: Encountered bad values in function evaluation. Decreasing step size to 0.5\n",
      "22/05/15 23:03:52 ERROR StrongWolfeLineSearch: Encountered bad values in function evaluation. Decreasing step size to 0.25\n",
      "22/05/15 23:03:52 ERROR StrongWolfeLineSearch: Encountered bad values in function evaluation. Decreasing step size to 0.125\n",
      "22/05/15 23:03:52 ERROR StrongWolfeLineSearch: Encountered bad values in function evaluation. Decreasing step size to 0.0625\n",
      "22/05/15 23:03:52 ERROR StrongWolfeLineSearch: Encountered bad values in function evaluation. Decreasing step size to 0.03125\n",
      "22/05/15 23:03:52 ERROR StrongWolfeLineSearch: Encountered bad values in function evaluation. Decreasing step size to 0.015625\n",
      "22/05/15 23:03:52 ERROR StrongWolfeLineSearch: Encountered bad values in function evaluation. Decreasing step size to 0.0078125\n",
      "22/05/15 23:03:52 ERROR StrongWolfeLineSearch: Encountered bad values in function evaluation. Decreasing step size to 0.00390625\n",
      "22/05/15 23:03:52 ERROR StrongWolfeLineSearch: Encountered bad values in function evaluation. Decreasing step size to 0.001953125\n",
      "22/05/15 23:03:52 ERROR LBFGS: Failure! Resetting history: breeze.optimize.FirstOrderException: Line search failed\n",
      "22/05/15 23:03:53 ERROR StrongWolfeLineSearch: Encountered bad values in function evaluation. Decreasing step size to 0.5\n",
      "22/05/15 23:03:53 ERROR StrongWolfeLineSearch: Encountered bad values in function evaluation. Decreasing step size to 0.5\n",
      "22/05/15 23:03:53 ERROR StrongWolfeLineSearch: Encountered bad values in function evaluation. Decreasing step size to 0.25\n",
      "22/05/15 23:03:53 ERROR StrongWolfeLineSearch: Encountered bad values in function evaluation. Decreasing step size to 0.125\n",
      "22/05/15 23:03:53 ERROR StrongWolfeLineSearch: Encountered bad values in function evaluation. Decreasing step size to 0.0625\n",
      "22/05/15 23:03:53 ERROR StrongWolfeLineSearch: Encountered bad values in function evaluation. Decreasing step size to 0.0703125\n",
      "22/05/15 23:03:54 ERROR LBFGS: Failure! Resetting history: breeze.optimize.FirstOrderException: Line search zoom failed\n",
      "22/05/15 23:03:54 ERROR LBFGS: Failure! Resetting history: breeze.optimize.FirstOrderException: Line search failed\n",
      "22/05/15 23:03:56 ERROR StrongWolfeLineSearch: Encountered bad values in function evaluation. Decreasing step size to 0.5\n",
      "22/05/15 23:03:56 ERROR StrongWolfeLineSearch: Encountered bad values in function evaluation. Decreasing step size to 0.25\n",
      "22/05/15 23:03:56 ERROR StrongWolfeLineSearch: Encountered bad values in function evaluation. Decreasing step size to 0.125\n",
      "22/05/15 23:03:56 ERROR StrongWolfeLineSearch: Encountered bad values in function evaluation. Decreasing step size to 0.5\n",
      "22/05/15 23:03:56 ERROR StrongWolfeLineSearch: Encountered bad values in function evaluation. Decreasing step size to 0.25\n",
      "22/05/15 23:03:56 ERROR StrongWolfeLineSearch: Encountered bad values in function evaluation. Decreasing step size to 0.125\n",
      "22/05/15 23:03:56 ERROR StrongWolfeLineSearch: Encountered bad values in function evaluation. Decreasing step size to 0.0625\n",
      "22/05/15 23:03:56 ERROR StrongWolfeLineSearch: Encountered bad values in function evaluation. Decreasing step size to 0.03125\n",
      "22/05/15 23:03:56 ERROR StrongWolfeLineSearch: Encountered bad values in function evaluation. Decreasing step size to 0.5\n",
      "22/05/15 23:03:57 ERROR StrongWolfeLineSearch: Encountered bad values in function evaluation. Decreasing step size to 0.25\n",
      "22/05/15 23:03:57 ERROR StrongWolfeLineSearch: Encountered bad values in function evaluation. Decreasing step size to 0.125\n",
      "22/05/15 23:03:57 ERROR StrongWolfeLineSearch: Encountered bad values in function evaluation. Decreasing step size to 0.5\n",
      "22/05/15 23:03:57 ERROR StrongWolfeLineSearch: Encountered bad values in function evaluation. Decreasing step size to 0.25\n",
      "22/05/15 23:03:57 ERROR StrongWolfeLineSearch: Encountered bad values in function evaluation. Decreasing step size to 0.125\n",
      "22/05/15 23:03:57 ERROR StrongWolfeLineSearch: Encountered bad values in function evaluation. Decreasing step size to 0.0625\n",
      "22/05/15 23:03:57 ERROR StrongWolfeLineSearch: Encountered bad values in function evaluation. Decreasing step size to 0.03125\n",
      "22/05/15 23:03:57 ERROR StrongWolfeLineSearch: Encountered bad values in function evaluation. Decreasing step size to 0.0234375\n",
      "22/05/15 23:03:57 ERROR LBFGS: Failure! Resetting history: breeze.optimize.FirstOrderException: Line search zoom failed\n"
     ]
    },
    {
     "name": "stdout",
     "output_type": "stream",
     "text": [
      "finished\n",
      "Layers :  [4, 2, 3]\n"
     ]
    }
   ],
   "source": [
    "from pyspark.sql import SparkSession\n",
    "from pyspark.ml.feature import VectorAssembler,StringIndexer,OneHotEncoder\n",
    "from pyspark.ml.classification import MultilayerPerceptronClassifier\n",
    "from pyspark.ml.evaluation import MulticlassClassificationEvaluator\n",
    "from pyspark.ml.tuning import CrossValidator,ParamGridBuilder\n",
    "\n",
    "spark = SparkSession.builder.getOrCreate()\n",
    "irisDF = spark.read.option('header','true').option('inferSchema','true').csv('../datasets/iris-dataset.txt')\n",
    "indexer = StringIndexer(inputCol='class',outputCol='label')\n",
    "indexerModel = indexer.fit(irisDF)\n",
    "irisDF = indexerModel.transform(irisDF)\n",
    "vec = VectorAssembler(inputCols=irisDF.columns[0:4],outputCol='features')\n",
    "irisDF = vec.transform(irisDF)\n",
    "#irisDF.show()\n",
    "\n",
    "trainDF, testDF = irisDF.randomSplit([0.75,0.25],seed=123) \n",
    "\n",
    "mlpClassifier= MultilayerPerceptronClassifier()\n",
    "eva = MulticlassClassificationEvaluator(metricName='accuracy')\n",
    "\n",
    "myParams = ParamGridBuilder().addGrid(mlpClassifier.layers, [[4,1,3],[4,2,3],[4,4,3]]).build()\n",
    "\n",
    "validator = CrossValidator(estimator=mlpClassifier,\n",
    "                                 estimatorParamMaps=myParams,\n",
    "                                 evaluator=eva,\n",
    "                                 parallelism=4,\n",
    "                                 numFolds=5\n",
    "                                )\n",
    "\n",
    "model = validator.fit(trainDF)\n",
    "print('finished')\n",
    "\n",
    "print(\"Layers : \",model.bestModel.getLayers())"
   ]
  },
  {
   "cell_type": "code",
   "execution_count": 5,
   "metadata": {},
   "outputs": [
    {
     "name": "stdout",
     "output_type": "stream",
     "text": [
      "Accuracy :  0.9696969696969697\n"
     ]
    }
   ],
   "source": [
    "resultDF = model.transform(testDF)\n",
    "accuracy = eva.evaluate(resultDF)\n",
    "print(\"Accuracy : \", accuracy)"
   ]
  },
  {
   "cell_type": "code",
   "execution_count": 8,
   "metadata": {},
   "outputs": [
    {
     "name": "stdout",
     "output_type": "stream",
     "text": [
      "root\n",
      " |-- sepal-length: double (nullable = true)\n",
      " |-- sepal-width: double (nullable = true)\n",
      " |-- petal-length: double (nullable = true)\n",
      " |-- petal-width: double (nullable = true)\n",
      " |-- class: string (nullable = true)\n",
      " |-- label: double (nullable = false)\n",
      " |-- features: vector (nullable = true)\n",
      "\n"
     ]
    }
   ],
   "source": [
    "trainDF.printSchema()"
   ]
  }
 ],
 "metadata": {
  "interpreter": {
   "hash": "6389c4f3611612d81a5ee170de9679905eb10b2a5a31904a2f8d152d44906565"
  },
  "kernelspec": {
   "display_name": "Python 3.9.12 ('cs528venv': venv)",
   "language": "python",
   "name": "python3"
  },
  "language_info": {
   "codemirror_mode": {
    "name": "ipython",
    "version": 3
   },
   "file_extension": ".py",
   "mimetype": "text/x-python",
   "name": "python",
   "nbconvert_exporter": "python",
   "pygments_lexer": "ipython3",
   "version": "3.9.13"
  }
 },
 "nbformat": 4,
 "nbformat_minor": 4
}
