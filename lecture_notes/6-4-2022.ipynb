{
 "cells": [
  {
   "cell_type": "code",
   "execution_count": 26,
   "metadata": {},
   "outputs": [
    {
     "name": "stdout",
     "output_type": "stream",
     "text": [
      "+-----+----+-----+------+---+---------------+\n",
      "|Rooms|Area|Flats| label|Age|       features|\n",
      "+-----+----+-----+------+---+---------------+\n",
      "|    4| 200|    1|300000|  2|[200.0,2.0,4.0]|\n",
      "|    3| 120|    1|200000|  1|[120.0,1.0,3.0]|\n",
      "|    6| 300|    2|600000|  3|[300.0,3.0,6.0]|\n",
      "+-----+----+-----+------+---+---------------+\n",
      "\n"
     ]
    }
   ],
   "source": [
    "from pyspark.sql import SparkSession\n",
    "from pyspark.ml.feature import VectorAssembler\n",
    "from pyspark.ml.regression import LinearRegression\n",
    "spark = SparkSession.builder.getOrCreate()\n",
    "houseDF = spark.read.option(\"delimiter\", \";\").option(\"header\", \"true\").option(\"inferSchema\", \"true\").csv(\"datasets/houseprices.csv\")\n",
    "\n",
    "houseDF = houseDF.withColumnRenamed(\"price\",\"label\")\n",
    "vec = VectorAssembler(inputCols=[\"Area\",\"Age\",\"Rooms\"],outputCol=\"features\")\n",
    "houseDF = vec.transform(houseDF)\n",
    "\n",
    "\n",
    "houseDF.show()"
   ]
  },
  {
   "cell_type": "code",
   "execution_count": 27,
   "metadata": {},
   "outputs": [
    {
     "name": "stderr",
     "output_type": "stream",
     "text": [
      "22/04/06 15:08:34 WARN Instrumentation: [3c33e31f] regParam is zero, which might cause numerical instability and overfitting.\n",
      "22/04/06 15:08:35 WARN Instrumentation: [3c33e31f] Cholesky solver failed due to singular covariance matrix. Retrying with Quasi-Newton solver.\n"
     ]
    }
   ],
   "source": [
    "linearRegressor = LinearRegression()\n",
    "model = linearRegressor.fit(houseDF)\n"
   ]
  },
  {
   "cell_type": "code",
   "execution_count": 28,
   "metadata": {},
   "outputs": [
    {
     "name": "stdout",
     "output_type": "stream",
     "text": [
      "coefs:  [263.1578807118763,-115789.47859803848,194736.8459787336]\n",
      "intercept:  -300000.00405888946\n"
     ]
    }
   ],
   "source": [
    "print(\"coefs: \", model.coefficients)\n",
    "print(\"intercept: \", model.intercept)\n",
    "\n"
   ]
  },
  {
   "cell_type": "code",
   "execution_count": 29,
   "metadata": {},
   "outputs": [
    {
     "data": {
      "text/plain": [
       "-78966"
      ]
     },
     "execution_count": 29,
     "metadata": {},
     "output_type": "execute_result"
    }
   ],
   "source": [
    "def learnedFromData(area,age,room):\n",
    "    price = 263*area + (-115789)*age + 194736*room + \n",
    "    return price\n",
    "\n",
    "learnedFromData(120, 6, 3)"
   ]
  }
 ],
 "metadata": {
  "interpreter": {
   "hash": "6389c4f3611612d81a5ee170de9679905eb10b2a5a31904a2f8d152d44906565"
  },
  "kernelspec": {
   "display_name": "Python 3.9.9 ('cs528venv': venv)",
   "language": "python",
   "name": "python3"
  },
  "language_info": {
   "codemirror_mode": {
    "name": "ipython",
    "version": 3
   },
   "file_extension": ".py",
   "mimetype": "text/x-python",
   "name": "python",
   "nbconvert_exporter": "python",
   "pygments_lexer": "ipython3",
   "version": "3.9.9"
  },
  "orig_nbformat": 4
 },
 "nbformat": 4,
 "nbformat_minor": 2
}
